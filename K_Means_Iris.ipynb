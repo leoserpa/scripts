{
  "cells": [
    {
      "cell_type": "markdown",
      "metadata": {
        "id": "view-in-github",
        "colab_type": "text"
      },
      "source": [
        "<a href=\"https://colab.research.google.com/github/leoserpa/scripts/blob/main/K_Means_Iris.ipynb\" target=\"_parent\"><img src=\"https://colab.research.google.com/assets/colab-badge.svg\" alt=\"Open In Colab\"/></a>"
      ]
    },
    {
      "cell_type": "markdown",
      "metadata": {
        "id": "1YOHikEREnGp"
      },
      "source": [
        "\n",
        "## KMeans - Agrupamento de Dados"
      ]
    },
    {
      "cell_type": "markdown",
      "metadata": {
        "id": "jBfDAElOEnGr"
      },
      "source": [
        "## Importando bibliotecas ##"
      ]
    },
    {
      "cell_type": "code",
      "execution_count": null,
      "metadata": {
        "id": "oh2bJJc_EnGr"
      },
      "outputs": [],
      "source": [
        "import pandas as pd\n",
        "import matplotlib.pyplot as plt\n",
        "import seaborn as sns\n",
        "from sklearn.cluster import KMeans"
      ]
    },
    {
      "cell_type": "markdown",
      "metadata": {
        "id": "KXnxVCLeEnGs"
      },
      "source": [
        "## Carregando a base de dados iris"
      ]
    },
    {
      "cell_type": "code",
      "execution_count": null,
      "metadata": {
        "id": "oUlBy11zEnGt"
      },
      "outputs": [],
      "source": [
        "iris = pd.read_csv(\"iris.csv\")"
      ]
    },
    {
      "cell_type": "code",
      "execution_count": null,
      "metadata": {
        "id": "mMBvmpIkEnGt",
        "outputId": "780d505f-a01c-49f1-cafe-7c2787ae8159"
      },
      "outputs": [
        {
          "data": {
            "text/html": [
              "<div>\n",
              "<style scoped>\n",
              "    .dataframe tbody tr th:only-of-type {\n",
              "        vertical-align: middle;\n",
              "    }\n",
              "\n",
              "    .dataframe tbody tr th {\n",
              "        vertical-align: top;\n",
              "    }\n",
              "\n",
              "    .dataframe thead th {\n",
              "        text-align: right;\n",
              "    }\n",
              "</style>\n",
              "<table border=\"1\" class=\"dataframe\">\n",
              "  <thead>\n",
              "    <tr style=\"text-align: right;\">\n",
              "      <th></th>\n",
              "      <th>SepalLength</th>\n",
              "      <th>SepalWidth</th>\n",
              "      <th>PetalLength</th>\n",
              "      <th>PetalWidth</th>\n",
              "      <th>Species</th>\n",
              "    </tr>\n",
              "  </thead>\n",
              "  <tbody>\n",
              "    <tr>\n",
              "      <th>0</th>\n",
              "      <td>5.1</td>\n",
              "      <td>3.5</td>\n",
              "      <td>1.4</td>\n",
              "      <td>0.2</td>\n",
              "      <td>Iris-setosa</td>\n",
              "    </tr>\n",
              "    <tr>\n",
              "      <th>1</th>\n",
              "      <td>4.9</td>\n",
              "      <td>3.0</td>\n",
              "      <td>1.4</td>\n",
              "      <td>0.2</td>\n",
              "      <td>Iris-setosa</td>\n",
              "    </tr>\n",
              "    <tr>\n",
              "      <th>2</th>\n",
              "      <td>4.7</td>\n",
              "      <td>3.2</td>\n",
              "      <td>1.3</td>\n",
              "      <td>0.2</td>\n",
              "      <td>Iris-setosa</td>\n",
              "    </tr>\n",
              "    <tr>\n",
              "      <th>3</th>\n",
              "      <td>4.6</td>\n",
              "      <td>3.1</td>\n",
              "      <td>1.5</td>\n",
              "      <td>0.2</td>\n",
              "      <td>Iris-setosa</td>\n",
              "    </tr>\n",
              "    <tr>\n",
              "      <th>4</th>\n",
              "      <td>5.0</td>\n",
              "      <td>3.6</td>\n",
              "      <td>1.4</td>\n",
              "      <td>0.2</td>\n",
              "      <td>Iris-setosa</td>\n",
              "    </tr>\n",
              "  </tbody>\n",
              "</table>\n",
              "</div>"
            ],
            "text/plain": [
              "   SepalLength  SepalWidth  PetalLength  PetalWidth      Species\n",
              "0          5.1         3.5          1.4         0.2  Iris-setosa\n",
              "1          4.9         3.0          1.4         0.2  Iris-setosa\n",
              "2          4.7         3.2          1.3         0.2  Iris-setosa\n",
              "3          4.6         3.1          1.5         0.2  Iris-setosa\n",
              "4          5.0         3.6          1.4         0.2  Iris-setosa"
            ]
          },
          "execution_count": 5,
          "metadata": {},
          "output_type": "execute_result"
        }
      ],
      "source": [
        "iris.head()"
      ]
    },
    {
      "cell_type": "markdown",
      "metadata": {
        "id": "2cEL3B3pEnGu"
      },
      "source": [
        "## Separando os valores de dados e classes"
      ]
    },
    {
      "cell_type": "code",
      "execution_count": null,
      "metadata": {
        "id": "654NSVrPEnGu",
        "outputId": "a9cfb400-7afc-46af-b09c-1860fa598eec"
      },
      "outputs": [
        {
          "data": {
            "text/html": [
              "<div>\n",
              "<style scoped>\n",
              "    .dataframe tbody tr th:only-of-type {\n",
              "        vertical-align: middle;\n",
              "    }\n",
              "\n",
              "    .dataframe tbody tr th {\n",
              "        vertical-align: top;\n",
              "    }\n",
              "\n",
              "    .dataframe thead th {\n",
              "        text-align: right;\n",
              "    }\n",
              "</style>\n",
              "<table border=\"1\" class=\"dataframe\">\n",
              "  <thead>\n",
              "    <tr style=\"text-align: right;\">\n",
              "      <th></th>\n",
              "      <th>SepalLength</th>\n",
              "      <th>SepalWidth</th>\n",
              "      <th>PetalLength</th>\n",
              "      <th>PetalWidth</th>\n",
              "    </tr>\n",
              "  </thead>\n",
              "  <tbody>\n",
              "    <tr>\n",
              "      <th>0</th>\n",
              "      <td>5.1</td>\n",
              "      <td>3.5</td>\n",
              "      <td>1.4</td>\n",
              "      <td>0.2</td>\n",
              "    </tr>\n",
              "    <tr>\n",
              "      <th>1</th>\n",
              "      <td>4.9</td>\n",
              "      <td>3.0</td>\n",
              "      <td>1.4</td>\n",
              "      <td>0.2</td>\n",
              "    </tr>\n",
              "    <tr>\n",
              "      <th>2</th>\n",
              "      <td>4.7</td>\n",
              "      <td>3.2</td>\n",
              "      <td>1.3</td>\n",
              "      <td>0.2</td>\n",
              "    </tr>\n",
              "    <tr>\n",
              "      <th>3</th>\n",
              "      <td>4.6</td>\n",
              "      <td>3.1</td>\n",
              "      <td>1.5</td>\n",
              "      <td>0.2</td>\n",
              "    </tr>\n",
              "    <tr>\n",
              "      <th>4</th>\n",
              "      <td>5.0</td>\n",
              "      <td>3.6</td>\n",
              "      <td>1.4</td>\n",
              "      <td>0.2</td>\n",
              "    </tr>\n",
              "    <tr>\n",
              "      <th>5</th>\n",
              "      <td>5.4</td>\n",
              "      <td>3.9</td>\n",
              "      <td>1.7</td>\n",
              "      <td>0.4</td>\n",
              "    </tr>\n",
              "    <tr>\n",
              "      <th>6</th>\n",
              "      <td>4.6</td>\n",
              "      <td>3.4</td>\n",
              "      <td>1.4</td>\n",
              "      <td>0.3</td>\n",
              "    </tr>\n",
              "    <tr>\n",
              "      <th>7</th>\n",
              "      <td>5.0</td>\n",
              "      <td>3.4</td>\n",
              "      <td>1.5</td>\n",
              "      <td>0.2</td>\n",
              "    </tr>\n",
              "    <tr>\n",
              "      <th>8</th>\n",
              "      <td>4.4</td>\n",
              "      <td>2.9</td>\n",
              "      <td>1.4</td>\n",
              "      <td>0.2</td>\n",
              "    </tr>\n",
              "    <tr>\n",
              "      <th>9</th>\n",
              "      <td>4.9</td>\n",
              "      <td>3.1</td>\n",
              "      <td>1.5</td>\n",
              "      <td>0.1</td>\n",
              "    </tr>\n",
              "  </tbody>\n",
              "</table>\n",
              "</div>"
            ],
            "text/plain": [
              "   SepalLength  SepalWidth  PetalLength  PetalWidth\n",
              "0          5.1         3.5          1.4         0.2\n",
              "1          4.9         3.0          1.4         0.2\n",
              "2          4.7         3.2          1.3         0.2\n",
              "3          4.6         3.1          1.5         0.2\n",
              "4          5.0         3.6          1.4         0.2\n",
              "5          5.4         3.9          1.7         0.4\n",
              "6          4.6         3.4          1.4         0.3\n",
              "7          5.0         3.4          1.5         0.2\n",
              "8          4.4         2.9          1.4         0.2\n",
              "9          4.9         3.1          1.5         0.1"
            ]
          },
          "execution_count": 6,
          "metadata": {},
          "output_type": "execute_result"
        }
      ],
      "source": [
        "X = iris.drop('Species',axis=1)\n",
        "X[:10]"
      ]
    },
    {
      "cell_type": "code",
      "execution_count": null,
      "metadata": {
        "id": "Qhp38F3-EnGv",
        "outputId": "6943c92b-470e-4d7d-bd44-5c0aac01a630"
      },
      "outputs": [
        {
          "data": {
            "text/plain": [
              "array(['Iris-setosa', 'Iris-versicolor', 'Iris-virginica'], dtype=object)"
            ]
          },
          "execution_count": 7,
          "metadata": {},
          "output_type": "execute_result"
        }
      ],
      "source": [
        "y = iris.Species\n",
        "y.unique()"
      ]
    },
    {
      "cell_type": "markdown",
      "metadata": {
        "id": "YR_TQHhjEnGv"
      },
      "source": [
        "## Convertendo valores categórios de classe em numéricos"
      ]
    },
    {
      "cell_type": "code",
      "execution_count": null,
      "metadata": {
        "id": "BfFKo2O2EnGv"
      },
      "outputs": [],
      "source": [
        "def converte_classe(l):\n",
        "    if l == 'Iris-virginica':\n",
        "        return 0\n",
        "    elif l == 'Iris-setosa':\n",
        "        return 1\n",
        "    elif l == 'Iris-versicolor':\n",
        "        return 2"
      ]
    },
    {
      "cell_type": "code",
      "execution_count": null,
      "metadata": {
        "id": "7B3qXLm-EnGw",
        "outputId": "b37efbfc-c330-4dad-cdd0-25b058539dc4"
      },
      "outputs": [
        {
          "data": {
            "text/plain": [
              "0    50\n",
              "1    50\n",
              "2    50\n",
              "Name: Species, dtype: int64"
            ]
          },
          "execution_count": 9,
          "metadata": {},
          "output_type": "execute_result"
        }
      ],
      "source": [
        "y = y.apply(converte_classe)\n",
        "y.value_counts()"
      ]
    },
    {
      "cell_type": "markdown",
      "metadata": {
        "id": "O8ZfHqN9EnGw"
      },
      "source": [
        "## Instânciando o Algoritmo K-means com 3 clusters ##"
      ]
    },
    {
      "cell_type": "code",
      "execution_count": null,
      "metadata": {
        "id": "jsd7RR5LEnGw"
      },
      "outputs": [],
      "source": [
        "kmeans = KMeans(n_clusters = 3, init = 'random')"
      ]
    },
    {
      "cell_type": "code",
      "execution_count": null,
      "metadata": {
        "id": "Yep759LyEnGx",
        "outputId": "41c51b2b-bcb1-464f-c680-70a1a7f64375"
      },
      "outputs": [
        {
          "data": {
            "text/plain": [
              "KMeans(init='random', n_clusters=3)"
            ]
          },
          "execution_count": 11,
          "metadata": {},
          "output_type": "execute_result"
        }
      ],
      "source": [
        "kmeans.fit(X)"
      ]
    },
    {
      "cell_type": "markdown",
      "metadata": {
        "id": "wLmiHzhREnGx"
      },
      "source": [
        "## Centroids ##"
      ]
    },
    {
      "cell_type": "code",
      "execution_count": null,
      "metadata": {
        "id": "3DLADtZPEnGx",
        "outputId": "4b615c2b-77c0-4cbd-b629-e8ec60d0ca23"
      },
      "outputs": [
        {
          "data": {
            "text/plain": [
              "array([[5.006     , 3.418     , 1.464     , 0.244     ],\n",
              "       [6.85      , 3.07368421, 5.74210526, 2.07105263],\n",
              "       [5.9016129 , 2.7483871 , 4.39354839, 1.43387097]])"
            ]
          },
          "execution_count": 12,
          "metadata": {},
          "output_type": "execute_result"
        }
      ],
      "source": [
        "kmeans.cluster_centers_"
      ]
    },
    {
      "cell_type": "markdown",
      "metadata": {
        "id": "uF8rjV0VEnGy"
      },
      "source": [
        "## Tabela de distância ##"
      ]
    },
    {
      "cell_type": "code",
      "execution_count": null,
      "metadata": {
        "id": "JEt6-NWyEnGy",
        "outputId": "ed3b4558-75f3-4b64-db43-205f72cab4f1"
      },
      "outputs": [
        {
          "data": {
            "text/plain": [
              "array([[0.14694217, 5.0595416 , 3.41925061],\n",
              "       [0.43816892, 5.11494335, 3.39857426],\n",
              "       [0.41230086, 5.27935534, 3.56935666],\n",
              "       [0.51883716, 5.15358977, 3.42240962],\n",
              "       [0.19796969, 5.10433388, 3.46726403],\n",
              "       [0.68380699, 4.68148797, 3.14673162],\n",
              "       [0.41520116, 5.21147652, 3.51650264],\n",
              "       [0.0599333 , 5.00252706, 3.33654987],\n",
              "       [0.80099438, 5.32798107, 3.57233779],\n",
              "       [0.36659514, 5.06790865, 3.3583767 ],\n",
              "       [0.48784424, 4.89806763, 3.32449131],\n",
              "       [0.25138019, 4.9966845 , 3.31126872],\n",
              "       [0.49192682, 5.19103612, 3.46661272],\n",
              "       [0.90906105, 5.65173594, 3.90578362],\n",
              "       [1.02019214, 5.10804455, 3.646649  ],\n",
              "       [1.21309192, 4.88564095, 3.49427881],\n",
              "       [0.66241377, 5.03090587, 3.495248  ],\n",
              "       [0.1509702 , 5.02342022, 3.38444981],\n",
              "       [0.82848778, 4.61792995, 3.11245944],\n",
              "       [0.39898872, 4.97213426, 3.37738931],\n",
              "       [0.46172719, 4.6955761 , 3.07471224],\n",
              "       [0.33762701, 4.9236821 , 3.31506588],\n",
              "       [0.64435394, 5.59713396, 3.93167253],\n",
              "       [0.37946278, 4.68193765, 3.01233762],\n",
              "       [0.4845534 , 4.75095704, 3.06241269],\n",
              "       [0.44180539, 4.90772894, 3.19414543],\n",
              "       [0.20782685, 4.84545508, 3.17967089],\n",
              "       [0.21815591, 4.93969029, 3.30941724],\n",
              "       [0.2097427 , 5.01833618, 3.37648183],\n",
              "       [0.40198507, 5.02954567, 3.31272968],\n",
              "       [0.40495926, 4.98608729, 3.26550651],\n",
              "       [0.42566654, 4.79550372, 3.18083736],\n",
              "       [0.72442529, 5.06520776, 3.53142353],\n",
              "       [0.9282198 , 5.04438334, 3.57102821],\n",
              "       [0.36659514, 5.06790865, 3.3583767 ],\n",
              "       [0.34524194, 5.25071556, 3.56904033],\n",
              "       [0.5287646 , 5.02368214, 3.43783276],\n",
              "       [0.36659514, 5.06790865, 3.3583767 ],\n",
              "       [0.75550778, 5.40750095, 3.66205264],\n",
              "       [0.11131936, 4.9664149 , 3.31092773],\n",
              "       [0.19181241, 5.14520862, 3.49764675],\n",
              "       [1.23935144, 5.38423754, 3.60850034],\n",
              "       [0.66602703, 5.40847417, 3.68120561],\n",
              "       [0.38986151, 4.78803478, 3.14278239],\n",
              "       [0.60761172, 4.59828494, 3.00585191],\n",
              "       [0.47370033, 5.11844067, 3.39468045],\n",
              "       [0.41855943, 4.92421655, 3.32788568],\n",
              "       [0.4673243 , 5.23766854, 3.51879523],\n",
              "       [0.41132955, 4.92859681, 3.34104251],\n",
              "       [0.14139307, 5.08216833, 3.40601705],\n",
              "       [3.97889331, 1.25489071, 1.22697525],\n",
              "       [3.57569462, 1.44477759, 0.684141  ],\n",
              "       [4.13182671, 1.01903626, 1.17527644],\n",
              "       [3.00672446, 2.45978458, 0.73153652],\n",
              "       [3.7451291 , 1.3520017 , 0.63853451],\n",
              "       [3.34604124, 1.88009327, 0.26937898],\n",
              "       [3.74149596, 1.28902785, 0.76452634],\n",
              "       [2.233829  , 3.37155487, 1.58388575],\n",
              "       [3.70928457, 1.41123804, 0.75582717],\n",
              "       [2.79706847, 2.58955659, 0.85984838],\n",
              "       [2.5937602 , 3.27864111, 1.53611907],\n",
              "       [3.16815277, 1.90055758, 0.32426175],\n",
              "       [3.07805003, 2.38073698, 0.80841374],\n",
              "       [3.64323922, 1.45909603, 0.39674141],\n",
              "       [2.50973943, 2.60303733, 0.87269542],\n",
              "       [3.59544045, 1.50822767, 0.87306498],\n",
              "       [3.36487622, 1.85387593, 0.41229163],\n",
              "       [2.9438057 , 2.25517257, 0.53579956],\n",
              "       [3.70189033, 1.74778451, 0.6367639 ],\n",
              "       [2.80399572, 2.49557781, 0.71254917],\n",
              "       [3.79431048, 1.37094403, 0.7093731 ],\n",
              "       [3.02079327, 2.06563694, 0.46349013],\n",
              "       [3.98757972, 1.29106776, 0.69373966],\n",
              "       [3.60060995, 1.57547425, 0.43661144],\n",
              "       [3.37188256, 1.70495043, 0.54593856],\n",
              "       [3.55977415, 1.52298639, 0.74313017],\n",
              "       [4.00819061, 1.18965415, 0.98798453],\n",
              "       [4.20328348, 0.84636259, 1.06739835],\n",
              "       [3.47148268, 1.61913335, 0.21993519],\n",
              "       [2.42231129, 2.77868071, 1.0243726 ],\n",
              "       [2.73312861, 2.6440625 , 0.86396528],\n",
              "       [2.61755458, 2.75566654, 0.97566381],\n",
              "       [2.82736485, 2.32254696, 0.55763082],\n",
              "       [4.06974102, 1.22324554, 0.73395781],\n",
              "       [3.33538484, 1.9942056 , 0.57500396],\n",
              "       [3.47050313, 1.61049622, 0.68790275],\n",
              "       [3.87556344, 1.19803047, 0.92700552],\n",
              "       [3.55803204, 1.81572464, 0.61459444],\n",
              "       [2.93107352, 2.20430516, 0.50830256],\n",
              "       [2.9382294 , 2.40438484, 0.6291191 ],\n",
              "       [3.23221163, 2.14635877, 0.48790256],\n",
              "       [3.54152397, 1.52402278, 0.38266958],\n",
              "       [2.94020271, 2.26286106, 0.49185351],\n",
              "       [2.27868208, 3.33648305, 1.5485635 ],\n",
              "       [3.07720523, 2.16211718, 0.3856087 ],\n",
              "       [3.00931753, 2.11299567, 0.44284695],\n",
              "       [3.05790647, 2.07973003, 0.3449879 ],\n",
              "       [3.29423618, 1.76829182, 0.37241653],\n",
              "       [1.98584793, 3.44291999, 1.66064034],\n",
              "       [2.98784069, 2.16527941, 0.38393196],\n",
              "       [5.23002792, 0.77731871, 2.0445799 ],\n",
              "       [4.13627755, 1.29757391, 0.85382472],\n",
              "       [5.2614059 , 0.30610139, 2.05245342],\n",
              "       [4.63361544, 0.65293923, 1.33089245],\n",
              "       [5.00335807, 0.38458885, 1.72813078],\n",
              "       [6.06026336, 1.14225684, 2.87401886],\n",
              "       [3.49158875, 2.4108337 , 1.07101875],\n",
              "       [5.59810611, 0.78573677, 2.39730707],\n",
              "       [4.99343489, 0.65454939, 1.67668563],\n",
              "       [5.60613878, 0.8435596 , 2.54158648],\n",
              "       [4.31086905, 0.74552218, 1.17541367],\n",
              "       [4.46273369, 0.75289837, 1.13563278],\n",
              "       [4.80907392, 0.25958095, 1.59322675],\n",
              "       [4.11232197, 1.48572618, 0.88917352],\n",
              "       [4.34524936, 1.30303821, 1.20227628],\n",
              "       [4.57523682, 0.68288333, 1.42273608],\n",
              "       [4.5953446 , 0.50991553, 1.33403966],\n",
              "       [6.21652572, 1.47791217, 3.20105585],\n",
              "       [6.4578628 , 1.52971038, 3.20759942],\n",
              "       [4.0684631 , 1.53708992, 0.82617494],\n",
              "       [5.07992047, 0.26952816, 1.91251832],\n",
              "       [3.95277017, 1.5334904 , 0.81891975],\n",
              "       [6.17566126, 1.31149299, 2.9794431 ],\n",
              "       [4.05181342, 1.10668455, 0.74269596],\n",
              "       [4.92666134, 0.27627819, 1.75847731],\n",
              "       [5.27802918, 0.52766931, 2.14580999],\n",
              "       [3.91887637, 1.20765678, 0.62526165],\n",
              "       [3.94953061, 1.16212743, 0.70228926],\n",
              "       [4.78292714, 0.54629196, 1.4663925 ],\n",
              "       [5.0624097 , 0.59428255, 1.93773659],\n",
              "       [5.50890116, 0.7312665 , 2.31885342],\n",
              "       [5.99739877, 1.43802246, 3.07340053],\n",
              "       [4.82261257, 0.5605572 , 1.51444141],\n",
              "       [4.10541009, 1.05631592, 0.81536685],\n",
              "       [4.50652771, 1.12133058, 1.23209127],\n",
              "       [5.75777665, 0.95311851, 2.6381171 ],\n",
              "       [4.84041238, 0.73306362, 1.72401927],\n",
              "       [4.55574275, 0.57903109, 1.31541133],\n",
              "       [3.83572575, 1.29960041, 0.61011676],\n",
              "       [4.75659458, 0.34794609, 1.60532899],\n",
              "       [4.97248348, 0.3893492 , 1.77481954],\n",
              "       [4.59738969, 0.68403844, 1.53937059],\n",
              "       [4.13627755, 1.29757391, 0.85382472],\n",
              "       [5.21259935, 0.30952112, 2.00764279],\n",
              "       [5.09085376, 0.50939919, 1.94554509],\n",
              "       [4.60751473, 0.61173881, 1.44957743],\n",
              "       [4.21459274, 1.10072376, 0.89747884],\n",
              "       [4.40998776, 0.65334214, 1.17993324],\n",
              "       [4.59839015, 0.83572418, 1.50889317],\n",
              "       [4.07622276, 1.1805499 , 0.83452741]])"
            ]
          },
          "execution_count": 13,
          "metadata": {},
          "output_type": "execute_result"
        }
      ],
      "source": [
        "distance = kmeans.fit_transform(X)\n",
        "distance"
      ]
    },
    {
      "cell_type": "code",
      "execution_count": null,
      "metadata": {
        "id": "Iz_BkakcEnGy",
        "outputId": "4f5fa369-978e-48f2-ad8c-36210a22281a"
      },
      "outputs": [
        {
          "data": {
            "text/plain": [
              "array([0.14694217, 5.0595416 , 3.41925061])"
            ]
          },
          "execution_count": 14,
          "metadata": {},
          "output_type": "execute_result"
        }
      ],
      "source": [
        "distance[0]"
      ]
    },
    {
      "cell_type": "markdown",
      "metadata": {
        "id": "FvAA5N8gEnGz"
      },
      "source": [
        "## Visualizando valores de distância para cada cluster ##"
      ]
    },
    {
      "cell_type": "code",
      "execution_count": null,
      "metadata": {
        "id": "42wReiguEnGz",
        "outputId": "b0ffadb5-3ae6-4df9-8533-8b1717f928df"
      },
      "outputs": [
        {
          "data": {
            "image/png": "[encoded data removed]",
            "text/plain": [
              "<Figure size 432x288 with 1 Axes>"
            ]
          },
          "metadata": {
            "needs_background": "light"
          },
          "output_type": "display_data"
        }
      ],
      "source": [
        "%matplotlib inline\n",
        "x = ['Cluster 0','Cluster 1','Cluster 2']\n",
        "plt.barh(x,distance[0])\n",
        "plt.xlabel('Distância')\n",
        "plt.title('Distância por Clusters ')\n",
        "plt.show()"
      ]
    },
    {
      "cell_type": "markdown",
      "metadata": {
        "id": "92GtY9vkEnGz"
      },
      "source": [
        "## Imprimindo Rótulos ##"
      ]
    },
    {
      "cell_type": "code",
      "execution_count": null,
      "metadata": {
        "scrolled": false,
        "id": "L3JC8wGhEnGz",
        "outputId": "72f98066-86d7-4473-b38a-c994a3932b5a"
      },
      "outputs": [
        {
          "data": {
            "text/plain": [
              "array([0, 0, 0, 0, 0, 0, 0, 0, 0, 0, 0, 0, 0, 0, 0, 0, 0, 0, 0, 0, 0, 0,\n",
              "       0, 0, 0, 0, 0, 0, 0, 0, 0, 0, 0, 0, 0, 0, 0, 0, 0, 0, 0, 0, 0, 0,\n",
              "       0, 0, 0, 0, 0, 0, 2, 2, 1, 2, 2, 2, 2, 2, 2, 2, 2, 2, 2, 2, 2, 2,\n",
              "       2, 2, 2, 2, 2, 2, 2, 2, 2, 2, 2, 1, 2, 2, 2, 2, 2, 2, 2, 2, 2, 2,\n",
              "       2, 2, 2, 2, 2, 2, 2, 2, 2, 2, 2, 2, 1, 2, 1, 1, 1, 1, 2, 1, 1, 1,\n",
              "       1, 1, 1, 2, 2, 1, 1, 1, 1, 2, 1, 2, 1, 2, 1, 1, 2, 2, 1, 1, 1, 1,\n",
              "       1, 2, 1, 1, 1, 1, 2, 1, 1, 1, 2, 1, 1, 1, 2, 1, 1, 2])"
            ]
          },
          "execution_count": 16,
          "metadata": {},
          "output_type": "execute_result"
        }
      ],
      "source": [
        "labels = kmeans.labels_\n",
        "labels"
      ]
    },
    {
      "cell_type": "markdown",
      "metadata": {
        "id": "6HfW3JTiEnG0"
      },
      "source": [
        "## Visualizando os Centroids ##"
      ]
    },
    {
      "cell_type": "code",
      "execution_count": null,
      "metadata": {
        "id": "UAVmWqeEEnG0",
        "outputId": "46ff74aa-edcb-4c85-d0da-1be2ab419455"
      },
      "outputs": [
        {
          "data": {
            "image/png": "[encoded data removed]",
            "text/plain": [
              "<Figure size 576x432 with 1 Axes>"
            ]
          },
          "metadata": {
            "needs_background": "light"
          },
          "output_type": "display_data"
        }
      ],
      "source": [
        "%matplotlib inline\n",
        "plt.figure(figsize=(8,6))\n",
        "plt.scatter(X['SepalLength'], X['SepalWidth'], s = 100, c = kmeans.labels_)\n",
        "plt.scatter(kmeans.cluster_centers_[:, 0], kmeans.cluster_centers_[:, 1], s = 300, c = 'red',label = 'Centroids')\n",
        "plt.title('Dataset Iris e Centroids')\n",
        "plt.xlabel('SepalLength')\n",
        "plt.ylabel('SepalWidth')\n",
        "plt.show()"
      ]
    },
    {
      "cell_type": "markdown",
      "metadata": {
        "id": "I7yABxnSEnG0"
      },
      "source": [
        "## Agrupando novos dados ##"
      ]
    },
    {
      "cell_type": "code",
      "execution_count": null,
      "metadata": {
        "id": "9GqA80H8EnG0",
        "outputId": "65bb392b-2dfb-4cbd-ced7-500221337852"
      },
      "outputs": [
        {
          "data": {
            "text/plain": [
              "array([0, 1, 2])"
            ]
          },
          "execution_count": 18,
          "metadata": {},
          "output_type": "execute_result"
        }
      ],
      "source": [
        "data = [\n",
        "        [ 4.12, 3.4, 1.6, 0.7],\n",
        "        [ 5.2, 5.8, 5.2, 6.7],\n",
        "        [ 3.1, 3.5, 3.3, 3.0]\n",
        "    ]\n",
        "kmeans.predict(data)"
      ]
    },
    {
      "cell_type": "markdown",
      "metadata": {
        "id": "6PNfYEcfEnG1"
      },
      "source": [
        "## Visualizando os resultados ##"
      ]
    },
    {
      "cell_type": "code",
      "execution_count": null,
      "metadata": {
        "scrolled": false,
        "id": "9_2lr5iOEnG1",
        "outputId": "608eef0a-0cf5-4f72-b298-5961a46865c3"
      },
      "outputs": [
        {
          "data": {
            "text/plain": [
              "<matplotlib.collections.PathCollection at 0x1e2e057c5b0>"
            ]
          },
          "execution_count": 19,
          "metadata": {},
          "output_type": "execute_result"
        },
        {
          "data": {
            "image/png": "[encoded data removed]",
            "text/plain": [
              "<Figure size 576x432 with 2 Axes>"
            ]
          },
          "metadata": {
            "needs_background": "light"
          },
          "output_type": "display_data"
        }
      ],
      "source": [
        "%matplotlib inline\n",
        "f,(ax1, ax2) = plt.subplots(1, 2, sharey=True, figsize=(8,6))\n",
        "ax1.set_title('Original')\n",
        "ax1.scatter(X['SepalLength'], X['SepalWidth'],s=150,c=sorted(y))\n",
        "ax2.set_title('KMeans')\n",
        "ax2.scatter(X['SepalLength'], X['SepalWidth'],s=150,c=sorted(kmeans.labels_))"
      ]
    },
    {
      "cell_type": "markdown",
      "metadata": {
        "id": "h4HWN-gAEnG1"
      },
      "source": [
        "## Estimando o valor do parametro K - Método Elbow"
      ]
    },
    {
      "cell_type": "code",
      "execution_count": null,
      "metadata": {
        "id": "IaKx0xLqEnG1",
        "outputId": "eeff8371-ad23-497a-bc3c-c6da3a223cbd"
      },
      "outputs": [
        {
          "name": "stderr",
          "output_type": "stream",
          "text": [
            "C:\\Users\\Leonardo\\anaconda3\\lib\\site-packages\\sklearn\\cluster\\_kmeans.py:881: UserWarning: KMeans is known to have a memory leak on Windows with MKL, when there are less chunks than available threads. You can avoid it by setting the environment variable OMP_NUM_THREADS=1.\n",
            "  warnings.warn(\n"
          ]
        },
        {
          "name": "stdout",
          "output_type": "stream",
          "text": [
            "1 680.8243999999996\n",
            "2 152.36870647733915\n",
            "3 78.94084142614601\n",
            "4 57.317873214285726\n",
            "5 46.56163015873017\n",
            "6 38.95701115711987\n",
            "7 34.190687924796634\n",
            "8 29.95408642103723\n",
            "9 28.750823444529324\n",
            "10 26.135948120163302\n"
          ]
        },
        {
          "data": {
            "image/png": "[encoded data removed]",
            "text/plain": [
              "<Figure size 432x288 with 1 Axes>"
            ]
          },
          "metadata": {
            "needs_background": "light"
          },
          "output_type": "display_data"
        }
      ],
      "source": [
        "%matplotlib inline\n",
        "wcss = []\n",
        "\n",
        "for i in range(1, 11):\n",
        "    kmeans2 = KMeans(n_clusters = i, init = 'random')\n",
        "    kmeans2.fit(X)\n",
        "    print (i,kmeans2.inertia_)\n",
        "    wcss.append(kmeans2.inertia_)\n",
        "    \n",
        "plt.plot(range(1, 11), wcss)\n",
        "plt.title('O Metodo Elbow')\n",
        "plt.xlabel('Numero de Clusters')\n",
        "plt.ylabel('WSS') #within cluster sum of squares\n",
        "plt.show()"
      ]
    },
    {
      "cell_type": "markdown",
      "metadata": {
        "id": "gW520LPeEnG2"
      },
      "source": [
        "## Técnicas de Validação"
      ]
    },
    {
      "cell_type": "markdown",
      "metadata": {
        "id": "QfKBRqeVEnG2"
      },
      "source": [
        "### Matriz de Confusão"
      ]
    },
    {
      "cell_type": "code",
      "execution_count": null,
      "metadata": {
        "id": "texVs1bLEnG2",
        "outputId": "f43ff2f5-c20e-4314-f4a1-1a535b25f1fa"
      },
      "outputs": [
        {
          "name": "stdout",
          "output_type": "stream",
          "text": [
            "Predito   0   1   2  All\n",
            "Real                    \n",
            "0         0  36  14   50\n",
            "1        50   0   0   50\n",
            "2         0   2  48   50\n",
            "All      50  38  62  150\n"
          ]
        }
      ],
      "source": [
        "print (pd.crosstab(y,kmeans.labels_, rownames=['Real'], colnames=['Predito'], margins=True))"
      ]
    },
    {
      "cell_type": "markdown",
      "metadata": {
        "id": "g2HhBeGyEnG2"
      },
      "source": [
        "### Metricas de classificação"
      ]
    },
    {
      "cell_type": "code",
      "execution_count": null,
      "metadata": {
        "id": "w5EystJpEnG3",
        "outputId": "02075a28-1db9-44bd-eb31-aeb88652a341"
      },
      "outputs": [
        {
          "name": "stdout",
          "output_type": "stream",
          "text": [
            "              precision    recall  f1-score   support\n",
            "\n",
            "   Cluster 2       0.00      0.00      0.00        50\n",
            "   Cluster 1       0.00      0.00      0.00        50\n",
            "   Cluster 0       0.77      0.96      0.86        50\n",
            "\n",
            "    accuracy                           0.32       150\n",
            "   macro avg       0.26      0.32      0.29       150\n",
            "weighted avg       0.26      0.32      0.29       150\n",
            "\n"
          ]
        }
      ],
      "source": [
        "from sklearn import metrics\n",
        "clusters = ['Cluster 2','Cluster 1','Cluster 0']\n",
        "print(metrics.classification_report(y,kmeans.labels_,target_names=clusters))"
      ]
    }
  ],
  "metadata": {
    "kernelspec": {
      "display_name": "Python 3",
      "language": "python",
      "name": "python3"
    },
    "language_info": {
      "codemirror_mode": {
        "name": "ipython",
        "version": 3
      },
      "file_extension": ".py",
      "mimetype": "text/x-python",
      "name": "python",
      "nbconvert_exporter": "python",
      "pygments_lexer": "ipython3",
      "version": "3.8.8"
    },
    "colab": {
      "name": "K-Means Iris.ipynb",
      "provenance": [],
      "include_colab_link": true
    }
  },
  "nbformat": 4,
  "nbformat_minor": 0
}