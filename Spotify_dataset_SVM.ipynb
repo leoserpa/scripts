{
  "nbformat": 4,
  "nbformat_minor": 5,
  "metadata": {
    "kernelspec": {
      "display_name": "Python 3",
      "language": "python",
      "name": "python3"
    },
    "language_info": {
      "codemirror_mode": {
        "name": "ipython",
        "version": 3
      },
      "file_extension": ".py",
      "mimetype": "text/x-python",
      "name": "python",
      "nbconvert_exporter": "python",
      "pygments_lexer": "ipython3",
      "version": "3.8.8"
    },
    "colab": {
      "name": "Spotify_dataset_SVM (1).ipynb",
      "provenance": [],
      "include_colab_link": true
    }
  },
  "cells": [
    {
      "cell_type": "markdown",
      "metadata": {
        "id": "view-in-github",
        "colab_type": "text"
      },
      "source": [
        "<a href=\"https://colab.research.google.com/github/leoserpa/scripts/blob/main/Spotify_dataset_SVM.ipynb\" target=\"_parent\"><img src=\"https://colab.research.google.com/assets/colab-badge.svg\" alt=\"Open In Colab\"/></a>"
      ]
    },
    {
      "cell_type": "markdown",
      "metadata": {
        "id": "11b7a3ff-15d9-44cd-8b2a-cbd8966369a0"
      },
      "source": [
        "# Base de dados de músicas do Spotify"
      ],
      "id": "11b7a3ff-15d9-44cd-8b2a-cbd8966369a0"
    },
    {
      "cell_type": "code",
      "metadata": {
        "id": "58d68262-c139-4fcb-8b2d-9ad9a8e06429"
      },
      "source": [
        "from sklearn.model_selection import cross_val_predict\n",
        "from sklearn import metrics\n",
        "import matplotlib.pyplot as plt \n",
        "import pandas as pd \n",
        "import numpy as np \n",
        "from sklearn import svm"
      ],
      "id": "58d68262-c139-4fcb-8b2d-9ad9a8e06429",
      "execution_count": null,
      "outputs": []
    },
    {
      "cell_type": "code",
      "metadata": {
        "id": "754c8e53-d145-4ed4-afdb-09dfc5ae004b"
      },
      "source": [
        "# # importar os arquivos \n",
        "dataset  = pd.read_csv('data.csv', sep=',')\n"
      ],
      "id": "754c8e53-d145-4ed4-afdb-09dfc5ae004b",
      "execution_count": null,
      "outputs": []
    },
    {
      "cell_type": "code",
      "metadata": {
        "id": "0408cf83-5452-4d11-9e8b-48750ffc0102",
        "outputId": "af113201-4de9-4ee2-8caf-e16a0cd1e546"
      },
      "source": [
        "# ver as primeiras entradas\n",
        "dataset.head()"
      ],
      "id": "0408cf83-5452-4d11-9e8b-48750ffc0102",
      "execution_count": null,
      "outputs": [
        {
          "data": {
            "text/html": [
              "<div>\n",
              "<style scoped>\n",
              "    .dataframe tbody tr th:only-of-type {\n",
              "        vertical-align: middle;\n",
              "    }\n",
              "\n",
              "    .dataframe tbody tr th {\n",
              "        vertical-align: top;\n",
              "    }\n",
              "\n",
              "    .dataframe thead th {\n",
              "        text-align: right;\n",
              "    }\n",
              "</style>\n",
              "<table border=\"1\" class=\"dataframe\">\n",
              "  <thead>\n",
              "    <tr style=\"text-align: right;\">\n",
              "      <th></th>\n",
              "      <th>id</th>\n",
              "      <th>acousticness</th>\n",
              "      <th>danceability</th>\n",
              "      <th>duration_ms</th>\n",
              "      <th>energy</th>\n",
              "      <th>instrumentalness</th>\n",
              "      <th>key</th>\n",
              "      <th>liveness</th>\n",
              "      <th>loudness</th>\n",
              "      <th>mode</th>\n",
              "      <th>speechiness</th>\n",
              "      <th>tempo</th>\n",
              "      <th>time_signature</th>\n",
              "      <th>valence</th>\n",
              "      <th>target</th>\n",
              "      <th>song_title</th>\n",
              "      <th>artist</th>\n",
              "    </tr>\n",
              "  </thead>\n",
              "  <tbody>\n",
              "    <tr>\n",
              "      <th>0</th>\n",
              "      <td>0</td>\n",
              "      <td>0.0102</td>\n",
              "      <td>0.833</td>\n",
              "      <td>204600</td>\n",
              "      <td>0.434</td>\n",
              "      <td>0.021900</td>\n",
              "      <td>2</td>\n",
              "      <td>0.1650</td>\n",
              "      <td>-8.795</td>\n",
              "      <td>1</td>\n",
              "      <td>0.4310</td>\n",
              "      <td>150.062</td>\n",
              "      <td>4.0</td>\n",
              "      <td>0.286</td>\n",
              "      <td>1</td>\n",
              "      <td>Mask Off</td>\n",
              "      <td>Future</td>\n",
              "    </tr>\n",
              "    <tr>\n",
              "      <th>1</th>\n",
              "      <td>1</td>\n",
              "      <td>0.1990</td>\n",
              "      <td>0.743</td>\n",
              "      <td>326933</td>\n",
              "      <td>0.359</td>\n",
              "      <td>0.006110</td>\n",
              "      <td>1</td>\n",
              "      <td>0.1370</td>\n",
              "      <td>-10.401</td>\n",
              "      <td>1</td>\n",
              "      <td>0.0794</td>\n",
              "      <td>160.083</td>\n",
              "      <td>4.0</td>\n",
              "      <td>0.588</td>\n",
              "      <td>1</td>\n",
              "      <td>Redbone</td>\n",
              "      <td>Childish Gambino</td>\n",
              "    </tr>\n",
              "    <tr>\n",
              "      <th>2</th>\n",
              "      <td>2</td>\n",
              "      <td>0.0344</td>\n",
              "      <td>0.838</td>\n",
              "      <td>185707</td>\n",
              "      <td>0.412</td>\n",
              "      <td>0.000234</td>\n",
              "      <td>2</td>\n",
              "      <td>0.1590</td>\n",
              "      <td>-7.148</td>\n",
              "      <td>1</td>\n",
              "      <td>0.2890</td>\n",
              "      <td>75.044</td>\n",
              "      <td>4.0</td>\n",
              "      <td>0.173</td>\n",
              "      <td>1</td>\n",
              "      <td>Xanny Family</td>\n",
              "      <td>Future</td>\n",
              "    </tr>\n",
              "    <tr>\n",
              "      <th>3</th>\n",
              "      <td>3</td>\n",
              "      <td>0.6040</td>\n",
              "      <td>0.494</td>\n",
              "      <td>199413</td>\n",
              "      <td>0.338</td>\n",
              "      <td>0.510000</td>\n",
              "      <td>5</td>\n",
              "      <td>0.0922</td>\n",
              "      <td>-15.236</td>\n",
              "      <td>1</td>\n",
              "      <td>0.0261</td>\n",
              "      <td>86.468</td>\n",
              "      <td>4.0</td>\n",
              "      <td>0.230</td>\n",
              "      <td>1</td>\n",
              "      <td>Master Of None</td>\n",
              "      <td>Beach House</td>\n",
              "    </tr>\n",
              "    <tr>\n",
              "      <th>4</th>\n",
              "      <td>4</td>\n",
              "      <td>0.1800</td>\n",
              "      <td>0.678</td>\n",
              "      <td>392893</td>\n",
              "      <td>0.561</td>\n",
              "      <td>0.512000</td>\n",
              "      <td>5</td>\n",
              "      <td>0.4390</td>\n",
              "      <td>-11.648</td>\n",
              "      <td>0</td>\n",
              "      <td>0.0694</td>\n",
              "      <td>174.004</td>\n",
              "      <td>4.0</td>\n",
              "      <td>0.904</td>\n",
              "      <td>1</td>\n",
              "      <td>Parallel Lines</td>\n",
              "      <td>Junior Boys</td>\n",
              "    </tr>\n",
              "  </tbody>\n",
              "</table>\n",
              "</div>"
            ],
            "text/plain": [
              "   id  acousticness  danceability  duration_ms  energy  instrumentalness  key  \\\n",
              "0   0        0.0102         0.833       204600   0.434          0.021900    2   \n",
              "1   1        0.1990         0.743       326933   0.359          0.006110    1   \n",
              "2   2        0.0344         0.838       185707   0.412          0.000234    2   \n",
              "3   3        0.6040         0.494       199413   0.338          0.510000    5   \n",
              "4   4        0.1800         0.678       392893   0.561          0.512000    5   \n",
              "\n",
              "   liveness  loudness  mode  speechiness    tempo  time_signature  valence  \\\n",
              "0    0.1650    -8.795     1       0.4310  150.062             4.0    0.286   \n",
              "1    0.1370   -10.401     1       0.0794  160.083             4.0    0.588   \n",
              "2    0.1590    -7.148     1       0.2890   75.044             4.0    0.173   \n",
              "3    0.0922   -15.236     1       0.0261   86.468             4.0    0.230   \n",
              "4    0.4390   -11.648     0       0.0694  174.004             4.0    0.904   \n",
              "\n",
              "   target      song_title            artist  \n",
              "0       1        Mask Off            Future  \n",
              "1       1         Redbone  Childish Gambino  \n",
              "2       1    Xanny Family            Future  \n",
              "3       1  Master Of None       Beach House  \n",
              "4       1  Parallel Lines       Junior Boys  "
            ]
          },
          "execution_count": 576,
          "metadata": {},
          "output_type": "execute_result"
        }
      ]
    },
    {
      "cell_type": "markdown",
      "metadata": {
        "id": "1b2f7515-b7d7-40ce-b314-8f75dc33b38d"
      },
      "source": [
        "### Análise de Dados"
      ],
      "id": "1b2f7515-b7d7-40ce-b314-8f75dc33b38d"
    },
    {
      "cell_type": "code",
      "metadata": {
        "id": "ccbf6bc1-8e3a-4de3-9991-d2b9b0373f89",
        "outputId": "78c46383-ef27-4eb9-c645-4ec3ce10608a"
      },
      "source": [
        "# checando valores Missing\n",
        "dataset.isnull().sum()"
      ],
      "id": "ccbf6bc1-8e3a-4de3-9991-d2b9b0373f89",
      "execution_count": null,
      "outputs": [
        {
          "data": {
            "text/plain": [
              "id                  0\n",
              "acousticness        0\n",
              "danceability        0\n",
              "duration_ms         0\n",
              "energy              0\n",
              "instrumentalness    0\n",
              "key                 0\n",
              "liveness            0\n",
              "loudness            0\n",
              "mode                0\n",
              "speechiness         0\n",
              "tempo               0\n",
              "time_signature      0\n",
              "valence             0\n",
              "target              0\n",
              "song_title          0\n",
              "artist              0\n",
              "dtype: int64"
            ]
          },
          "execution_count": 577,
          "metadata": {},
          "output_type": "execute_result"
        }
      ]
    },
    {
      "cell_type": "code",
      "metadata": {
        "id": "c3372857-0b65-490e-8f74-1137093f140f",
        "outputId": "84f520eb-d483-4309-b875-d3e78736a3e8"
      },
      "source": [
        "# Resumo Estatístico da base\n",
        "# Somente dados numéricos \n",
        "dataset.describe()"
      ],
      "id": "c3372857-0b65-490e-8f74-1137093f140f",
      "execution_count": null,
      "outputs": [
        {
          "data": {
            "text/html": [
              "<div>\n",
              "<style scoped>\n",
              "    .dataframe tbody tr th:only-of-type {\n",
              "        vertical-align: middle;\n",
              "    }\n",
              "\n",
              "    .dataframe tbody tr th {\n",
              "        vertical-align: top;\n",
              "    }\n",
              "\n",
              "    .dataframe thead th {\n",
              "        text-align: right;\n",
              "    }\n",
              "</style>\n",
              "<table border=\"1\" class=\"dataframe\">\n",
              "  <thead>\n",
              "    <tr style=\"text-align: right;\">\n",
              "      <th></th>\n",
              "      <th>id</th>\n",
              "      <th>acousticness</th>\n",
              "      <th>danceability</th>\n",
              "      <th>duration_ms</th>\n",
              "      <th>energy</th>\n",
              "      <th>instrumentalness</th>\n",
              "      <th>key</th>\n",
              "      <th>liveness</th>\n",
              "      <th>loudness</th>\n",
              "      <th>mode</th>\n",
              "      <th>speechiness</th>\n",
              "      <th>tempo</th>\n",
              "      <th>time_signature</th>\n",
              "      <th>valence</th>\n",
              "      <th>target</th>\n",
              "    </tr>\n",
              "  </thead>\n",
              "  <tbody>\n",
              "    <tr>\n",
              "      <th>count</th>\n",
              "      <td>2017.000000</td>\n",
              "      <td>2017.000000</td>\n",
              "      <td>2017.000000</td>\n",
              "      <td>2.017000e+03</td>\n",
              "      <td>2017.000000</td>\n",
              "      <td>2017.000000</td>\n",
              "      <td>2017.000000</td>\n",
              "      <td>2017.000000</td>\n",
              "      <td>2017.000000</td>\n",
              "      <td>2017.000000</td>\n",
              "      <td>2017.000000</td>\n",
              "      <td>2017.000000</td>\n",
              "      <td>2017.000000</td>\n",
              "      <td>2017.000000</td>\n",
              "      <td>2017.000000</td>\n",
              "    </tr>\n",
              "    <tr>\n",
              "      <th>mean</th>\n",
              "      <td>1008.000000</td>\n",
              "      <td>0.187590</td>\n",
              "      <td>0.618422</td>\n",
              "      <td>2.463062e+05</td>\n",
              "      <td>0.681577</td>\n",
              "      <td>0.133286</td>\n",
              "      <td>5.342588</td>\n",
              "      <td>0.190844</td>\n",
              "      <td>-7.085624</td>\n",
              "      <td>0.612295</td>\n",
              "      <td>0.092664</td>\n",
              "      <td>121.603272</td>\n",
              "      <td>3.968270</td>\n",
              "      <td>0.496815</td>\n",
              "      <td>0.505702</td>\n",
              "    </tr>\n",
              "    <tr>\n",
              "      <th>std</th>\n",
              "      <td>582.402066</td>\n",
              "      <td>0.259989</td>\n",
              "      <td>0.161029</td>\n",
              "      <td>8.198181e+04</td>\n",
              "      <td>0.210273</td>\n",
              "      <td>0.273162</td>\n",
              "      <td>3.648240</td>\n",
              "      <td>0.155453</td>\n",
              "      <td>3.761684</td>\n",
              "      <td>0.487347</td>\n",
              "      <td>0.089931</td>\n",
              "      <td>26.685604</td>\n",
              "      <td>0.255853</td>\n",
              "      <td>0.247195</td>\n",
              "      <td>0.500091</td>\n",
              "    </tr>\n",
              "    <tr>\n",
              "      <th>min</th>\n",
              "      <td>0.000000</td>\n",
              "      <td>0.000003</td>\n",
              "      <td>0.122000</td>\n",
              "      <td>1.604200e+04</td>\n",
              "      <td>0.014800</td>\n",
              "      <td>0.000000</td>\n",
              "      <td>0.000000</td>\n",
              "      <td>0.018800</td>\n",
              "      <td>-33.097000</td>\n",
              "      <td>0.000000</td>\n",
              "      <td>0.023100</td>\n",
              "      <td>47.859000</td>\n",
              "      <td>1.000000</td>\n",
              "      <td>0.034800</td>\n",
              "      <td>0.000000</td>\n",
              "    </tr>\n",
              "    <tr>\n",
              "      <th>25%</th>\n",
              "      <td>504.000000</td>\n",
              "      <td>0.009630</td>\n",
              "      <td>0.514000</td>\n",
              "      <td>2.000150e+05</td>\n",
              "      <td>0.563000</td>\n",
              "      <td>0.000000</td>\n",
              "      <td>2.000000</td>\n",
              "      <td>0.092300</td>\n",
              "      <td>-8.394000</td>\n",
              "      <td>0.000000</td>\n",
              "      <td>0.037500</td>\n",
              "      <td>100.189000</td>\n",
              "      <td>4.000000</td>\n",
              "      <td>0.295000</td>\n",
              "      <td>0.000000</td>\n",
              "    </tr>\n",
              "    <tr>\n",
              "      <th>50%</th>\n",
              "      <td>1008.000000</td>\n",
              "      <td>0.063300</td>\n",
              "      <td>0.631000</td>\n",
              "      <td>2.292610e+05</td>\n",
              "      <td>0.715000</td>\n",
              "      <td>0.000076</td>\n",
              "      <td>6.000000</td>\n",
              "      <td>0.127000</td>\n",
              "      <td>-6.248000</td>\n",
              "      <td>1.000000</td>\n",
              "      <td>0.054900</td>\n",
              "      <td>121.427000</td>\n",
              "      <td>4.000000</td>\n",
              "      <td>0.492000</td>\n",
              "      <td>1.000000</td>\n",
              "    </tr>\n",
              "    <tr>\n",
              "      <th>75%</th>\n",
              "      <td>1512.000000</td>\n",
              "      <td>0.265000</td>\n",
              "      <td>0.738000</td>\n",
              "      <td>2.703330e+05</td>\n",
              "      <td>0.846000</td>\n",
              "      <td>0.054000</td>\n",
              "      <td>9.000000</td>\n",
              "      <td>0.247000</td>\n",
              "      <td>-4.746000</td>\n",
              "      <td>1.000000</td>\n",
              "      <td>0.108000</td>\n",
              "      <td>137.849000</td>\n",
              "      <td>4.000000</td>\n",
              "      <td>0.691000</td>\n",
              "      <td>1.000000</td>\n",
              "    </tr>\n",
              "    <tr>\n",
              "      <th>max</th>\n",
              "      <td>2016.000000</td>\n",
              "      <td>0.995000</td>\n",
              "      <td>0.984000</td>\n",
              "      <td>1.004627e+06</td>\n",
              "      <td>0.998000</td>\n",
              "      <td>0.976000</td>\n",
              "      <td>11.000000</td>\n",
              "      <td>0.969000</td>\n",
              "      <td>-0.307000</td>\n",
              "      <td>1.000000</td>\n",
              "      <td>0.816000</td>\n",
              "      <td>219.331000</td>\n",
              "      <td>5.000000</td>\n",
              "      <td>0.992000</td>\n",
              "      <td>1.000000</td>\n",
              "    </tr>\n",
              "  </tbody>\n",
              "</table>\n",
              "</div>"
            ],
            "text/plain": [
              "                id  acousticness  danceability   duration_ms       energy  \\\n",
              "count  2017.000000   2017.000000   2017.000000  2.017000e+03  2017.000000   \n",
              "mean   1008.000000      0.187590      0.618422  2.463062e+05     0.681577   \n",
              "std     582.402066      0.259989      0.161029  8.198181e+04     0.210273   \n",
              "min       0.000000      0.000003      0.122000  1.604200e+04     0.014800   \n",
              "25%     504.000000      0.009630      0.514000  2.000150e+05     0.563000   \n",
              "50%    1008.000000      0.063300      0.631000  2.292610e+05     0.715000   \n",
              "75%    1512.000000      0.265000      0.738000  2.703330e+05     0.846000   \n",
              "max    2016.000000      0.995000      0.984000  1.004627e+06     0.998000   \n",
              "\n",
              "       instrumentalness          key     liveness     loudness         mode  \\\n",
              "count       2017.000000  2017.000000  2017.000000  2017.000000  2017.000000   \n",
              "mean           0.133286     5.342588     0.190844    -7.085624     0.612295   \n",
              "std            0.273162     3.648240     0.155453     3.761684     0.487347   \n",
              "min            0.000000     0.000000     0.018800   -33.097000     0.000000   \n",
              "25%            0.000000     2.000000     0.092300    -8.394000     0.000000   \n",
              "50%            0.000076     6.000000     0.127000    -6.248000     1.000000   \n",
              "75%            0.054000     9.000000     0.247000    -4.746000     1.000000   \n",
              "max            0.976000    11.000000     0.969000    -0.307000     1.000000   \n",
              "\n",
              "       speechiness        tempo  time_signature      valence       target  \n",
              "count  2017.000000  2017.000000     2017.000000  2017.000000  2017.000000  \n",
              "mean      0.092664   121.603272        3.968270     0.496815     0.505702  \n",
              "std       0.089931    26.685604        0.255853     0.247195     0.500091  \n",
              "min       0.023100    47.859000        1.000000     0.034800     0.000000  \n",
              "25%       0.037500   100.189000        4.000000     0.295000     0.000000  \n",
              "50%       0.054900   121.427000        4.000000     0.492000     1.000000  \n",
              "75%       0.108000   137.849000        4.000000     0.691000     1.000000  \n",
              "max       0.816000   219.331000        5.000000     0.992000     1.000000  "
            ]
          },
          "execution_count": 578,
          "metadata": {},
          "output_type": "execute_result"
        }
      ]
    },
    {
      "cell_type": "code",
      "metadata": {
        "id": "a1fa5bdb-560a-4e16-9e84-37a5334e5d00",
        "outputId": "284c1a5a-0291-4a0a-d3ef-caa48aef205d"
      },
      "source": [
        "# lista de estilos disponiveis de Matplotlib\n",
        "plt.style.available"
      ],
      "id": "a1fa5bdb-560a-4e16-9e84-37a5334e5d00",
      "execution_count": null,
      "outputs": [
        {
          "data": {
            "text/plain": [
              "['Solarize_Light2',\n",
              " '_classic_test_patch',\n",
              " 'bmh',\n",
              " 'classic',\n",
              " 'dark_background',\n",
              " 'fast',\n",
              " 'fivethirtyeight',\n",
              " 'ggplot',\n",
              " 'grayscale',\n",
              " 'seaborn',\n",
              " 'seaborn-bright',\n",
              " 'seaborn-colorblind',\n",
              " 'seaborn-dark',\n",
              " 'seaborn-dark-palette',\n",
              " 'seaborn-darkgrid',\n",
              " 'seaborn-deep',\n",
              " 'seaborn-muted',\n",
              " 'seaborn-notebook',\n",
              " 'seaborn-paper',\n",
              " 'seaborn-pastel',\n",
              " 'seaborn-poster',\n",
              " 'seaborn-talk',\n",
              " 'seaborn-ticks',\n",
              " 'seaborn-white',\n",
              " 'seaborn-whitegrid',\n",
              " 'tableau-colorblind10']"
            ]
          },
          "execution_count": 579,
          "metadata": {},
          "output_type": "execute_result"
        }
      ]
    },
    {
      "cell_type": "code",
      "metadata": {
        "tags": [],
        "id": "1dce27ca-2dde-452b-8d97-623f17f1f77b",
        "outputId": "584e1231-75c1-4d30-82d4-d7797e125fc2"
      },
      "source": [
        "%matplotlib inline\n",
        "from matplotlib import style\n",
        "style.use(\"dark_background\")\n",
        "fig, ax = plt.subplots(figsize = (8,5))\n",
        "dataset.plot.scatter(x= 'tempo', y='valence', c='target', colormap='Blues', ax=ax)\n",
        "plt.tight_layout();"
      ],
      "id": "1dce27ca-2dde-452b-8d97-623f17f1f77b",
      "execution_count": null,
      "outputs": [
        {
          "data": {
            "image/png": "[encoded data removed]",
            "text/plain": [
              "<Figure size 576x360 with 2 Axes>"
            ]
          },
          "metadata": {},
          "output_type": "display_data"
        }
      ]
    },
    {
      "cell_type": "code",
      "metadata": {
        "tags": [],
        "id": "2fd719eb-b84c-4f85-823a-1fb0a255d674",
        "outputId": "98c617fb-00da-41ce-f731-a3cbeac9cf89"
      },
      "source": [
        "%matplotlib inline\n",
        "from matplotlib import style\n",
        "style.use(\"dark_background\")\n",
        "fig, ax = plt.subplots(figsize = (8,5))\n",
        "dataset.plot.scatter(x= 'tempo', y='speechiness', c='target', colormap='Greens', ax=ax)\n",
        "plt.tight_layout();"
      ],
      "id": "2fd719eb-b84c-4f85-823a-1fb0a255d674",
      "execution_count": null,
      "outputs": [
        {
          "data": {
            "image/png": "[encoded data removed]",
            "text/plain": [
              "<Figure size 576x360 with 2 Axes>"
            ]
          },
          "metadata": {},
          "output_type": "display_data"
        }
      ]
    },
    {
      "cell_type": "code",
      "metadata": {
        "tags": [],
        "id": "4abe560a-06a2-4718-8724-73d84bc3c424",
        "outputId": "2650c5af-6652-4809-bb9b-4a0912e76672"
      },
      "source": [
        "%matplotlib inline\n",
        "from matplotlib import style\n",
        "style.use(\"dark_background\")\n",
        "fig, ax = plt.subplots(figsize = (8,5))\n",
        "dataset.plot.scatter(x= 'danceability', y='energy', c='target', colormap='Reds', ax=ax)\n",
        "plt.tight_layout();"
      ],
      "id": "4abe560a-06a2-4718-8724-73d84bc3c424",
      "execution_count": null,
      "outputs": [
        {
          "data": {
            "image/png": "[encoded data removed]",
            "text/plain": [
              "<Figure size 576x360 with 2 Axes>"
            ]
          },
          "metadata": {},
          "output_type": "display_data"
        }
      ]
    },
    {
      "cell_type": "markdown",
      "metadata": {
        "id": "5e83239e-bbcf-4461-b729-547d070d8452"
      },
      "source": [
        "## Separa a classe dos dados"
      ],
      "id": "5e83239e-bbcf-4461-b729-547d070d8452"
    },
    {
      "cell_type": "code",
      "metadata": {
        "id": "0a73c2fa-8a4b-4e72-9190-d782327721c9"
      },
      "source": [
        "classes =dataset['target']\n",
        "dataset.drop('target', axis=1, inplace=True)\n"
      ],
      "id": "0a73c2fa-8a4b-4e72-9190-d782327721c9",
      "execution_count": null,
      "outputs": []
    },
    {
      "cell_type": "code",
      "metadata": {
        "id": "38ab1ea5-4ffd-4991-98a2-18055964bf51",
        "outputId": "12db8374-5596-4a88-b1cb-1149091fadeb"
      },
      "source": [
        "dataset.head()"
      ],
      "id": "38ab1ea5-4ffd-4991-98a2-18055964bf51",
      "execution_count": null,
      "outputs": [
        {
          "data": {
            "text/html": [
              "<div>\n",
              "<style scoped>\n",
              "    .dataframe tbody tr th:only-of-type {\n",
              "        vertical-align: middle;\n",
              "    }\n",
              "\n",
              "    .dataframe tbody tr th {\n",
              "        vertical-align: top;\n",
              "    }\n",
              "\n",
              "    .dataframe thead th {\n",
              "        text-align: right;\n",
              "    }\n",
              "</style>\n",
              "<table border=\"1\" class=\"dataframe\">\n",
              "  <thead>\n",
              "    <tr style=\"text-align: right;\">\n",
              "      <th></th>\n",
              "      <th>id</th>\n",
              "      <th>acousticness</th>\n",
              "      <th>danceability</th>\n",
              "      <th>duration_ms</th>\n",
              "      <th>energy</th>\n",
              "      <th>instrumentalness</th>\n",
              "      <th>key</th>\n",
              "      <th>liveness</th>\n",
              "      <th>loudness</th>\n",
              "      <th>mode</th>\n",
              "      <th>speechiness</th>\n",
              "      <th>tempo</th>\n",
              "      <th>time_signature</th>\n",
              "      <th>valence</th>\n",
              "      <th>song_title</th>\n",
              "      <th>artist</th>\n",
              "    </tr>\n",
              "  </thead>\n",
              "  <tbody>\n",
              "    <tr>\n",
              "      <th>0</th>\n",
              "      <td>0</td>\n",
              "      <td>0.0102</td>\n",
              "      <td>0.833</td>\n",
              "      <td>204600</td>\n",
              "      <td>0.434</td>\n",
              "      <td>0.021900</td>\n",
              "      <td>2</td>\n",
              "      <td>0.1650</td>\n",
              "      <td>-8.795</td>\n",
              "      <td>1</td>\n",
              "      <td>0.4310</td>\n",
              "      <td>150.062</td>\n",
              "      <td>4.0</td>\n",
              "      <td>0.286</td>\n",
              "      <td>Mask Off</td>\n",
              "      <td>Future</td>\n",
              "    </tr>\n",
              "    <tr>\n",
              "      <th>1</th>\n",
              "      <td>1</td>\n",
              "      <td>0.1990</td>\n",
              "      <td>0.743</td>\n",
              "      <td>326933</td>\n",
              "      <td>0.359</td>\n",
              "      <td>0.006110</td>\n",
              "      <td>1</td>\n",
              "      <td>0.1370</td>\n",
              "      <td>-10.401</td>\n",
              "      <td>1</td>\n",
              "      <td>0.0794</td>\n",
              "      <td>160.083</td>\n",
              "      <td>4.0</td>\n",
              "      <td>0.588</td>\n",
              "      <td>Redbone</td>\n",
              "      <td>Childish Gambino</td>\n",
              "    </tr>\n",
              "    <tr>\n",
              "      <th>2</th>\n",
              "      <td>2</td>\n",
              "      <td>0.0344</td>\n",
              "      <td>0.838</td>\n",
              "      <td>185707</td>\n",
              "      <td>0.412</td>\n",
              "      <td>0.000234</td>\n",
              "      <td>2</td>\n",
              "      <td>0.1590</td>\n",
              "      <td>-7.148</td>\n",
              "      <td>1</td>\n",
              "      <td>0.2890</td>\n",
              "      <td>75.044</td>\n",
              "      <td>4.0</td>\n",
              "      <td>0.173</td>\n",
              "      <td>Xanny Family</td>\n",
              "      <td>Future</td>\n",
              "    </tr>\n",
              "    <tr>\n",
              "      <th>3</th>\n",
              "      <td>3</td>\n",
              "      <td>0.6040</td>\n",
              "      <td>0.494</td>\n",
              "      <td>199413</td>\n",
              "      <td>0.338</td>\n",
              "      <td>0.510000</td>\n",
              "      <td>5</td>\n",
              "      <td>0.0922</td>\n",
              "      <td>-15.236</td>\n",
              "      <td>1</td>\n",
              "      <td>0.0261</td>\n",
              "      <td>86.468</td>\n",
              "      <td>4.0</td>\n",
              "      <td>0.230</td>\n",
              "      <td>Master Of None</td>\n",
              "      <td>Beach House</td>\n",
              "    </tr>\n",
              "    <tr>\n",
              "      <th>4</th>\n",
              "      <td>4</td>\n",
              "      <td>0.1800</td>\n",
              "      <td>0.678</td>\n",
              "      <td>392893</td>\n",
              "      <td>0.561</td>\n",
              "      <td>0.512000</td>\n",
              "      <td>5</td>\n",
              "      <td>0.4390</td>\n",
              "      <td>-11.648</td>\n",
              "      <td>0</td>\n",
              "      <td>0.0694</td>\n",
              "      <td>174.004</td>\n",
              "      <td>4.0</td>\n",
              "      <td>0.904</td>\n",
              "      <td>Parallel Lines</td>\n",
              "      <td>Junior Boys</td>\n",
              "    </tr>\n",
              "  </tbody>\n",
              "</table>\n",
              "</div>"
            ],
            "text/plain": [
              "   id  acousticness  danceability  duration_ms  energy  instrumentalness  key  \\\n",
              "0   0        0.0102         0.833       204600   0.434          0.021900    2   \n",
              "1   1        0.1990         0.743       326933   0.359          0.006110    1   \n",
              "2   2        0.0344         0.838       185707   0.412          0.000234    2   \n",
              "3   3        0.6040         0.494       199413   0.338          0.510000    5   \n",
              "4   4        0.1800         0.678       392893   0.561          0.512000    5   \n",
              "\n",
              "   liveness  loudness  mode  speechiness    tempo  time_signature  valence  \\\n",
              "0    0.1650    -8.795     1       0.4310  150.062             4.0    0.286   \n",
              "1    0.1370   -10.401     1       0.0794  160.083             4.0    0.588   \n",
              "2    0.1590    -7.148     1       0.2890   75.044             4.0    0.173   \n",
              "3    0.0922   -15.236     1       0.0261   86.468             4.0    0.230   \n",
              "4    0.4390   -11.648     0       0.0694  174.004             4.0    0.904   \n",
              "\n",
              "       song_title            artist  \n",
              "0        Mask Off            Future  \n",
              "1         Redbone  Childish Gambino  \n",
              "2    Xanny Family            Future  \n",
              "3  Master Of None       Beach House  \n",
              "4  Parallel Lines       Junior Boys  "
            ]
          },
          "execution_count": 584,
          "metadata": {},
          "output_type": "execute_result"
        }
      ]
    },
    {
      "cell_type": "markdown",
      "metadata": {
        "id": "49f91e7d-895b-4676-b4c7-7fd154f4ac82"
      },
      "source": [
        "## Pre-processamento de dados"
      ],
      "id": "49f91e7d-895b-4676-b4c7-7fd154f4ac82"
    },
    {
      "cell_type": "code",
      "metadata": {
        "id": "a8f1345e-4057-4c78-b7bf-0304a0212aad"
      },
      "source": [
        "def remove_features(lista_features):\n",
        "    for i in lista_features:\n",
        "        dataset.drop(i, axis=1, inplace=True)\n",
        "        return 0"
      ],
      "id": "a8f1345e-4057-4c78-b7bf-0304a0212aad",
      "execution_count": null,
      "outputs": []
    },
    {
      "cell_type": "code",
      "metadata": {
        "id": "5bf74a19-2aae-40b6-93ea-c414693a9fdb",
        "outputId": "013a33ec-9bc6-42c9-c56e-bf3c5b5787c1"
      },
      "source": [
        "# Remove features\n",
        "remove_features(['song_title'])\n",
        "remove_features(['id'])"
      ],
      "id": "5bf74a19-2aae-40b6-93ea-c414693a9fdb",
      "execution_count": null,
      "outputs": [
        {
          "data": {
            "text/plain": [
              "0"
            ]
          },
          "execution_count": 586,
          "metadata": {},
          "output_type": "execute_result"
        }
      ]
    },
    {
      "cell_type": "code",
      "metadata": {
        "id": "600d4809-8bf6-4bfb-b20e-44d182416c04",
        "outputId": "32aa7a73-4e4f-44ac-b8e5-6e141dcf4cc3"
      },
      "source": [
        "# Visualizando o dataset\n",
        "dataset.head()"
      ],
      "id": "600d4809-8bf6-4bfb-b20e-44d182416c04",
      "execution_count": null,
      "outputs": [
        {
          "data": {
            "text/html": [
              "<div>\n",
              "<style scoped>\n",
              "    .dataframe tbody tr th:only-of-type {\n",
              "        vertical-align: middle;\n",
              "    }\n",
              "\n",
              "    .dataframe tbody tr th {\n",
              "        vertical-align: top;\n",
              "    }\n",
              "\n",
              "    .dataframe thead th {\n",
              "        text-align: right;\n",
              "    }\n",
              "</style>\n",
              "<table border=\"1\" class=\"dataframe\">\n",
              "  <thead>\n",
              "    <tr style=\"text-align: right;\">\n",
              "      <th></th>\n",
              "      <th>acousticness</th>\n",
              "      <th>danceability</th>\n",
              "      <th>duration_ms</th>\n",
              "      <th>energy</th>\n",
              "      <th>instrumentalness</th>\n",
              "      <th>key</th>\n",
              "      <th>liveness</th>\n",
              "      <th>loudness</th>\n",
              "      <th>mode</th>\n",
              "      <th>speechiness</th>\n",
              "      <th>tempo</th>\n",
              "      <th>time_signature</th>\n",
              "      <th>valence</th>\n",
              "      <th>artist</th>\n",
              "    </tr>\n",
              "  </thead>\n",
              "  <tbody>\n",
              "    <tr>\n",
              "      <th>0</th>\n",
              "      <td>0.0102</td>\n",
              "      <td>0.833</td>\n",
              "      <td>204600</td>\n",
              "      <td>0.434</td>\n",
              "      <td>0.021900</td>\n",
              "      <td>2</td>\n",
              "      <td>0.1650</td>\n",
              "      <td>-8.795</td>\n",
              "      <td>1</td>\n",
              "      <td>0.4310</td>\n",
              "      <td>150.062</td>\n",
              "      <td>4.0</td>\n",
              "      <td>0.286</td>\n",
              "      <td>Future</td>\n",
              "    </tr>\n",
              "    <tr>\n",
              "      <th>1</th>\n",
              "      <td>0.1990</td>\n",
              "      <td>0.743</td>\n",
              "      <td>326933</td>\n",
              "      <td>0.359</td>\n",
              "      <td>0.006110</td>\n",
              "      <td>1</td>\n",
              "      <td>0.1370</td>\n",
              "      <td>-10.401</td>\n",
              "      <td>1</td>\n",
              "      <td>0.0794</td>\n",
              "      <td>160.083</td>\n",
              "      <td>4.0</td>\n",
              "      <td>0.588</td>\n",
              "      <td>Childish Gambino</td>\n",
              "    </tr>\n",
              "    <tr>\n",
              "      <th>2</th>\n",
              "      <td>0.0344</td>\n",
              "      <td>0.838</td>\n",
              "      <td>185707</td>\n",
              "      <td>0.412</td>\n",
              "      <td>0.000234</td>\n",
              "      <td>2</td>\n",
              "      <td>0.1590</td>\n",
              "      <td>-7.148</td>\n",
              "      <td>1</td>\n",
              "      <td>0.2890</td>\n",
              "      <td>75.044</td>\n",
              "      <td>4.0</td>\n",
              "      <td>0.173</td>\n",
              "      <td>Future</td>\n",
              "    </tr>\n",
              "    <tr>\n",
              "      <th>3</th>\n",
              "      <td>0.6040</td>\n",
              "      <td>0.494</td>\n",
              "      <td>199413</td>\n",
              "      <td>0.338</td>\n",
              "      <td>0.510000</td>\n",
              "      <td>5</td>\n",
              "      <td>0.0922</td>\n",
              "      <td>-15.236</td>\n",
              "      <td>1</td>\n",
              "      <td>0.0261</td>\n",
              "      <td>86.468</td>\n",
              "      <td>4.0</td>\n",
              "      <td>0.230</td>\n",
              "      <td>Beach House</td>\n",
              "    </tr>\n",
              "    <tr>\n",
              "      <th>4</th>\n",
              "      <td>0.1800</td>\n",
              "      <td>0.678</td>\n",
              "      <td>392893</td>\n",
              "      <td>0.561</td>\n",
              "      <td>0.512000</td>\n",
              "      <td>5</td>\n",
              "      <td>0.4390</td>\n",
              "      <td>-11.648</td>\n",
              "      <td>0</td>\n",
              "      <td>0.0694</td>\n",
              "      <td>174.004</td>\n",
              "      <td>4.0</td>\n",
              "      <td>0.904</td>\n",
              "      <td>Junior Boys</td>\n",
              "    </tr>\n",
              "  </tbody>\n",
              "</table>\n",
              "</div>"
            ],
            "text/plain": [
              "   acousticness  danceability  duration_ms  energy  instrumentalness  key  \\\n",
              "0        0.0102         0.833       204600   0.434          0.021900    2   \n",
              "1        0.1990         0.743       326933   0.359          0.006110    1   \n",
              "2        0.0344         0.838       185707   0.412          0.000234    2   \n",
              "3        0.6040         0.494       199413   0.338          0.510000    5   \n",
              "4        0.1800         0.678       392893   0.561          0.512000    5   \n",
              "\n",
              "   liveness  loudness  mode  speechiness    tempo  time_signature  valence  \\\n",
              "0    0.1650    -8.795     1       0.4310  150.062             4.0    0.286   \n",
              "1    0.1370   -10.401     1       0.0794  160.083             4.0    0.588   \n",
              "2    0.1590    -7.148     1       0.2890   75.044             4.0    0.173   \n",
              "3    0.0922   -15.236     1       0.0261   86.468             4.0    0.230   \n",
              "4    0.4390   -11.648     0       0.0694  174.004             4.0    0.904   \n",
              "\n",
              "             artist  \n",
              "0            Future  \n",
              "1  Childish Gambino  \n",
              "2            Future  \n",
              "3       Beach House  \n",
              "4       Junior Boys  "
            ]
          },
          "execution_count": 587,
          "metadata": {},
          "output_type": "execute_result"
        }
      ]
    },
    {
      "cell_type": "code",
      "metadata": {
        "id": "27a5d090-3a92-4687-958a-cfc2943e1c4b",
        "outputId": "19eadfc4-8256-46a8-cdbf-6cca2d08d178"
      },
      "source": [
        "# Visualizando o dataset\n",
        "dataset.info()"
      ],
      "id": "27a5d090-3a92-4687-958a-cfc2943e1c4b",
      "execution_count": null,
      "outputs": [
        {
          "name": "stdout",
          "output_type": "stream",
          "text": [
            "<class 'pandas.core.frame.DataFrame'>\n",
            "RangeIndex: 2017 entries, 0 to 2016\n",
            "Data columns (total 14 columns):\n",
            " #   Column            Non-Null Count  Dtype  \n",
            "---  ------            --------------  -----  \n",
            " 0   acousticness      2017 non-null   float64\n",
            " 1   danceability      2017 non-null   float64\n",
            " 2   duration_ms       2017 non-null   int64  \n",
            " 3   energy            2017 non-null   float64\n",
            " 4   instrumentalness  2017 non-null   float64\n",
            " 5   key               2017 non-null   int64  \n",
            " 6   liveness          2017 non-null   float64\n",
            " 7   loudness          2017 non-null   float64\n",
            " 8   mode              2017 non-null   int64  \n",
            " 9   speechiness       2017 non-null   float64\n",
            " 10  tempo             2017 non-null   float64\n",
            " 11  time_signature    2017 non-null   float64\n",
            " 12  valence           2017 non-null   float64\n",
            " 13  artist            2017 non-null   object \n",
            "dtypes: float64(10), int64(3), object(1)\n",
            "memory usage: 220.7+ KB\n"
          ]
        }
      ]
    },
    {
      "cell_type": "markdown",
      "metadata": {
        "id": "106014bf-715a-4b9d-a073-c005ab9f02a2"
      },
      "source": [
        "# Label Encoder"
      ],
      "id": "106014bf-715a-4b9d-a073-c005ab9f02a2"
    },
    {
      "cell_type": "markdown",
      "metadata": {
        "id": "cb90ec05-f353-43eb-99de-910cc699db32"
      },
      "source": [
        "* Técnica para codificar valores categoricos em numéricos\n",
        "* Um exemplo seria: a lista de cores: _(‘branco’,’preto’,’amarelo’,’vermelho’,'branco')_\n",
        "* Após aplicar o LabelEncoder esta seria algo como __(1,2,3,4,1)__"
      ],
      "id": "cb90ec05-f353-43eb-99de-910cc699db32"
    },
    {
      "cell_type": "code",
      "metadata": {
        "id": "5591e87e-adac-4a9e-b491-d30536ace7c1"
      },
      "source": [
        "from sklearn.preprocessing import LabelEncoder"
      ],
      "id": "5591e87e-adac-4a9e-b491-d30536ace7c1",
      "execution_count": null,
      "outputs": []
    },
    {
      "cell_type": "code",
      "metadata": {
        "id": "5e8774a9-148b-4be6-afdf-4c2c2d111c3a"
      },
      "source": [
        "enc = LabelEncoder()"
      ],
      "id": "5e8774a9-148b-4be6-afdf-4c2c2d111c3a",
      "execution_count": null,
      "outputs": []
    },
    {
      "cell_type": "code",
      "metadata": {
        "id": "de9b37a1-2cdf-4b82-85fd-d48b8d767f82"
      },
      "source": [
        "inteiros = enc.fit_transform(dataset['artist'])"
      ],
      "id": "de9b37a1-2cdf-4b82-85fd-d48b8d767f82",
      "execution_count": null,
      "outputs": []
    },
    {
      "cell_type": "code",
      "metadata": {
        "id": "7a3edfa6-d248-4c50-8bd4-1395ddbf6be3",
        "outputId": "5455dab8-7438-4864-f2a1-327913facfeb"
      },
      "source": [
        "# Visualizando valores únicos.\n",
        "set(inteiros)"
      ],
      "id": "7a3edfa6-d248-4c50-8bd4-1395ddbf6be3",
      "execution_count": null,
      "outputs": [
        {
          "data": {
            "text/plain": [
              "{0,\n",
              " 1,\n",
              " 2,\n",
              " 3,\n",
              " 4,\n",
              " 5,\n",
              " 6,\n",
              " 7,\n",
              " 8,\n",
              " 9,\n",
              " 10,\n",
              " 11,\n",
              " 12,\n",
              " 13,\n",
              " 14,\n",
              " 15,\n",
              " 16,\n",
              " 17,\n",
              " 18,\n",
              " 19,\n",
              " 20,\n",
              " 21,\n",
              " 22,\n",
              " 23,\n",
              " 24,\n",
              " 25,\n",
              " 26,\n",
              " 27,\n",
              " 28,\n",
              " 29,\n",
              " 30,\n",
              " 31,\n",
              " 32,\n",
              " 33,\n",
              " 34,\n",
              " 35,\n",
              " 36,\n",
              " 37,\n",
              " 38,\n",
              " 39,\n",
              " 40,\n",
              " 41,\n",
              " 42,\n",
              " 43,\n",
              " 44,\n",
              " 45,\n",
              " 46,\n",
              " 47,\n",
              " 48,\n",
              " 49,\n",
              " 50,\n",
              " 51,\n",
              " 52,\n",
              " 53,\n",
              " 54,\n",
              " 55,\n",
              " 56,\n",
              " 57,\n",
              " 58,\n",
              " 59,\n",
              " 60,\n",
              " 61,\n",
              " 62,\n",
              " 63,\n",
              " 64,\n",
              " 65,\n",
              " 66,\n",
              " 67,\n",
              " 68,\n",
              " 69,\n",
              " 70,\n",
              " 71,\n",
              " 72,\n",
              " 73,\n",
              " 74,\n",
              " 75,\n",
              " 76,\n",
              " 77,\n",
              " 78,\n",
              " 79,\n",
              " 80,\n",
              " 81,\n",
              " 82,\n",
              " 83,\n",
              " 84,\n",
              " 85,\n",
              " 86,\n",
              " 87,\n",
              " 88,\n",
              " 89,\n",
              " 90,\n",
              " 91,\n",
              " 92,\n",
              " 93,\n",
              " 94,\n",
              " 95,\n",
              " 96,\n",
              " 97,\n",
              " 98,\n",
              " 99,\n",
              " 100,\n",
              " 101,\n",
              " 102,\n",
              " 103,\n",
              " 104,\n",
              " 105,\n",
              " 106,\n",
              " 107,\n",
              " 108,\n",
              " 109,\n",
              " 110,\n",
              " 111,\n",
              " 112,\n",
              " 113,\n",
              " 114,\n",
              " 115,\n",
              " 116,\n",
              " 117,\n",
              " 118,\n",
              " 119,\n",
              " 120,\n",
              " 121,\n",
              " 122,\n",
              " 123,\n",
              " 124,\n",
              " 125,\n",
              " 126,\n",
              " 127,\n",
              " 128,\n",
              " 129,\n",
              " 130,\n",
              " 131,\n",
              " 132,\n",
              " 133,\n",
              " 134,\n",
              " 135,\n",
              " 136,\n",
              " 137,\n",
              " 138,\n",
              " 139,\n",
              " 140,\n",
              " 141,\n",
              " 142,\n",
              " 143,\n",
              " 144,\n",
              " 145,\n",
              " 146,\n",
              " 147,\n",
              " 148,\n",
              " 149,\n",
              " 150,\n",
              " 151,\n",
              " 152,\n",
              " 153,\n",
              " 154,\n",
              " 155,\n",
              " 156,\n",
              " 157,\n",
              " 158,\n",
              " 159,\n",
              " 160,\n",
              " 161,\n",
              " 162,\n",
              " 163,\n",
              " 164,\n",
              " 165,\n",
              " 166,\n",
              " 167,\n",
              " 168,\n",
              " 169,\n",
              " 170,\n",
              " 171,\n",
              " 172,\n",
              " 173,\n",
              " 174,\n",
              " 175,\n",
              " 176,\n",
              " 177,\n",
              " 178,\n",
              " 179,\n",
              " 180,\n",
              " 181,\n",
              " 182,\n",
              " 183,\n",
              " 184,\n",
              " 185,\n",
              " 186,\n",
              " 187,\n",
              " 188,\n",
              " 189,\n",
              " 190,\n",
              " 191,\n",
              " 192,\n",
              " 193,\n",
              " 194,\n",
              " 195,\n",
              " 196,\n",
              " 197,\n",
              " 198,\n",
              " 199,\n",
              " 200,\n",
              " 201,\n",
              " 202,\n",
              " 203,\n",
              " 204,\n",
              " 205,\n",
              " 206,\n",
              " 207,\n",
              " 208,\n",
              " 209,\n",
              " 210,\n",
              " 211,\n",
              " 212,\n",
              " 213,\n",
              " 214,\n",
              " 215,\n",
              " 216,\n",
              " 217,\n",
              " 218,\n",
              " 219,\n",
              " 220,\n",
              " 221,\n",
              " 222,\n",
              " 223,\n",
              " 224,\n",
              " 225,\n",
              " 226,\n",
              " 227,\n",
              " 228,\n",
              " 229,\n",
              " 230,\n",
              " 231,\n",
              " 232,\n",
              " 233,\n",
              " 234,\n",
              " 235,\n",
              " 236,\n",
              " 237,\n",
              " 238,\n",
              " 239,\n",
              " 240,\n",
              " 241,\n",
              " 242,\n",
              " 243,\n",
              " 244,\n",
              " 245,\n",
              " 246,\n",
              " 247,\n",
              " 248,\n",
              " 249,\n",
              " 250,\n",
              " 251,\n",
              " 252,\n",
              " 253,\n",
              " 254,\n",
              " 255,\n",
              " 256,\n",
              " 257,\n",
              " 258,\n",
              " 259,\n",
              " 260,\n",
              " 261,\n",
              " 262,\n",
              " 263,\n",
              " 264,\n",
              " 265,\n",
              " 266,\n",
              " 267,\n",
              " 268,\n",
              " 269,\n",
              " 270,\n",
              " 271,\n",
              " 272,\n",
              " 273,\n",
              " 274,\n",
              " 275,\n",
              " 276,\n",
              " 277,\n",
              " 278,\n",
              " 279,\n",
              " 280,\n",
              " 281,\n",
              " 282,\n",
              " 283,\n",
              " 284,\n",
              " 285,\n",
              " 286,\n",
              " 287,\n",
              " 288,\n",
              " 289,\n",
              " 290,\n",
              " 291,\n",
              " 292,\n",
              " 293,\n",
              " 294,\n",
              " 295,\n",
              " 296,\n",
              " 297,\n",
              " 298,\n",
              " 299,\n",
              " 300,\n",
              " 301,\n",
              " 302,\n",
              " 303,\n",
              " 304,\n",
              " 305,\n",
              " 306,\n",
              " 307,\n",
              " 308,\n",
              " 309,\n",
              " 310,\n",
              " 311,\n",
              " 312,\n",
              " 313,\n",
              " 314,\n",
              " 315,\n",
              " 316,\n",
              " 317,\n",
              " 318,\n",
              " 319,\n",
              " 320,\n",
              " 321,\n",
              " 322,\n",
              " 323,\n",
              " 324,\n",
              " 325,\n",
              " 326,\n",
              " 327,\n",
              " 328,\n",
              " 329,\n",
              " 330,\n",
              " 331,\n",
              " 332,\n",
              " 333,\n",
              " 334,\n",
              " 335,\n",
              " 336,\n",
              " 337,\n",
              " 338,\n",
              " 339,\n",
              " 340,\n",
              " 341,\n",
              " 342,\n",
              " 343,\n",
              " 344,\n",
              " 345,\n",
              " 346,\n",
              " 347,\n",
              " 348,\n",
              " 349,\n",
              " 350,\n",
              " 351,\n",
              " 352,\n",
              " 353,\n",
              " 354,\n",
              " 355,\n",
              " 356,\n",
              " 357,\n",
              " 358,\n",
              " 359,\n",
              " 360,\n",
              " 361,\n",
              " 362,\n",
              " 363,\n",
              " 364,\n",
              " 365,\n",
              " 366,\n",
              " 367,\n",
              " 368,\n",
              " 369,\n",
              " 370,\n",
              " 371,\n",
              " 372,\n",
              " 373,\n",
              " 374,\n",
              " 375,\n",
              " 376,\n",
              " 377,\n",
              " 378,\n",
              " 379,\n",
              " 380,\n",
              " 381,\n",
              " 382,\n",
              " 383,\n",
              " 384,\n",
              " 385,\n",
              " 386,\n",
              " 387,\n",
              " 388,\n",
              " 389,\n",
              " 390,\n",
              " 391,\n",
              " 392,\n",
              " 393,\n",
              " 394,\n",
              " 395,\n",
              " 396,\n",
              " 397,\n",
              " 398,\n",
              " 399,\n",
              " 400,\n",
              " 401,\n",
              " 402,\n",
              " 403,\n",
              " 404,\n",
              " 405,\n",
              " 406,\n",
              " 407,\n",
              " 408,\n",
              " 409,\n",
              " 410,\n",
              " 411,\n",
              " 412,\n",
              " 413,\n",
              " 414,\n",
              " 415,\n",
              " 416,\n",
              " 417,\n",
              " 418,\n",
              " 419,\n",
              " 420,\n",
              " 421,\n",
              " 422,\n",
              " 423,\n",
              " 424,\n",
              " 425,\n",
              " 426,\n",
              " 427,\n",
              " 428,\n",
              " 429,\n",
              " 430,\n",
              " 431,\n",
              " 432,\n",
              " 433,\n",
              " 434,\n",
              " 435,\n",
              " 436,\n",
              " 437,\n",
              " 438,\n",
              " 439,\n",
              " 440,\n",
              " 441,\n",
              " 442,\n",
              " 443,\n",
              " 444,\n",
              " 445,\n",
              " 446,\n",
              " 447,\n",
              " 448,\n",
              " 449,\n",
              " 450,\n",
              " 451,\n",
              " 452,\n",
              " 453,\n",
              " 454,\n",
              " 455,\n",
              " 456,\n",
              " 457,\n",
              " 458,\n",
              " 459,\n",
              " 460,\n",
              " 461,\n",
              " 462,\n",
              " 463,\n",
              " 464,\n",
              " 465,\n",
              " 466,\n",
              " 467,\n",
              " 468,\n",
              " 469,\n",
              " 470,\n",
              " 471,\n",
              " 472,\n",
              " 473,\n",
              " 474,\n",
              " 475,\n",
              " 476,\n",
              " 477,\n",
              " 478,\n",
              " 479,\n",
              " 480,\n",
              " 481,\n",
              " 482,\n",
              " 483,\n",
              " 484,\n",
              " 485,\n",
              " 486,\n",
              " 487,\n",
              " 488,\n",
              " 489,\n",
              " 490,\n",
              " 491,\n",
              " 492,\n",
              " 493,\n",
              " 494,\n",
              " 495,\n",
              " 496,\n",
              " 497,\n",
              " 498,\n",
              " 499,\n",
              " 500,\n",
              " 501,\n",
              " 502,\n",
              " 503,\n",
              " 504,\n",
              " 505,\n",
              " 506,\n",
              " 507,\n",
              " 508,\n",
              " 509,\n",
              " 510,\n",
              " 511,\n",
              " 512,\n",
              " 513,\n",
              " 514,\n",
              " 515,\n",
              " 516,\n",
              " 517,\n",
              " 518,\n",
              " 519,\n",
              " 520,\n",
              " 521,\n",
              " 522,\n",
              " 523,\n",
              " 524,\n",
              " 525,\n",
              " 526,\n",
              " 527,\n",
              " 528,\n",
              " 529,\n",
              " 530,\n",
              " 531,\n",
              " 532,\n",
              " 533,\n",
              " 534,\n",
              " 535,\n",
              " 536,\n",
              " 537,\n",
              " 538,\n",
              " 539,\n",
              " 540,\n",
              " 541,\n",
              " 542,\n",
              " 543,\n",
              " 544,\n",
              " 545,\n",
              " 546,\n",
              " 547,\n",
              " 548,\n",
              " 549,\n",
              " 550,\n",
              " 551,\n",
              " 552,\n",
              " 553,\n",
              " 554,\n",
              " 555,\n",
              " 556,\n",
              " 557,\n",
              " 558,\n",
              " 559,\n",
              " 560,\n",
              " 561,\n",
              " 562,\n",
              " 563,\n",
              " 564,\n",
              " 565,\n",
              " 566,\n",
              " 567,\n",
              " 568,\n",
              " 569,\n",
              " 570,\n",
              " 571,\n",
              " 572,\n",
              " 573,\n",
              " 574,\n",
              " 575,\n",
              " 576,\n",
              " 577,\n",
              " 578,\n",
              " 579,\n",
              " 580,\n",
              " 581,\n",
              " 582,\n",
              " 583,\n",
              " 584,\n",
              " 585,\n",
              " 586,\n",
              " 587,\n",
              " 588,\n",
              " 589,\n",
              " 590,\n",
              " 591,\n",
              " 592,\n",
              " 593,\n",
              " 594,\n",
              " 595,\n",
              " 596,\n",
              " 597,\n",
              " 598,\n",
              " 599,\n",
              " 600,\n",
              " 601,\n",
              " 602,\n",
              " 603,\n",
              " 604,\n",
              " 605,\n",
              " 606,\n",
              " 607,\n",
              " 608,\n",
              " 609,\n",
              " 610,\n",
              " 611,\n",
              " 612,\n",
              " 613,\n",
              " 614,\n",
              " 615,\n",
              " 616,\n",
              " 617,\n",
              " 618,\n",
              " 619,\n",
              " 620,\n",
              " 621,\n",
              " 622,\n",
              " 623,\n",
              " 624,\n",
              " 625,\n",
              " 626,\n",
              " 627,\n",
              " 628,\n",
              " 629,\n",
              " 630,\n",
              " 631,\n",
              " 632,\n",
              " 633,\n",
              " 634,\n",
              " 635,\n",
              " 636,\n",
              " 637,\n",
              " 638,\n",
              " 639,\n",
              " 640,\n",
              " 641,\n",
              " 642,\n",
              " 643,\n",
              " 644,\n",
              " 645,\n",
              " 646,\n",
              " 647,\n",
              " 648,\n",
              " 649,\n",
              " 650,\n",
              " 651,\n",
              " 652,\n",
              " 653,\n",
              " 654,\n",
              " 655,\n",
              " 656,\n",
              " 657,\n",
              " 658,\n",
              " 659,\n",
              " 660,\n",
              " 661,\n",
              " 662,\n",
              " 663,\n",
              " 664,\n",
              " 665,\n",
              " 666,\n",
              " 667,\n",
              " 668,\n",
              " 669,\n",
              " 670,\n",
              " 671,\n",
              " 672,\n",
              " 673,\n",
              " 674,\n",
              " 675,\n",
              " 676,\n",
              " 677,\n",
              " 678,\n",
              " 679,\n",
              " 680,\n",
              " 681,\n",
              " 682,\n",
              " 683,\n",
              " 684,\n",
              " 685,\n",
              " 686,\n",
              " 687,\n",
              " 688,\n",
              " 689,\n",
              " 690,\n",
              " 691,\n",
              " 692,\n",
              " 693,\n",
              " 694,\n",
              " 695,\n",
              " 696,\n",
              " 697,\n",
              " 698,\n",
              " 699,\n",
              " 700,\n",
              " 701,\n",
              " 702,\n",
              " 703,\n",
              " 704,\n",
              " 705,\n",
              " 706,\n",
              " 707,\n",
              " 708,\n",
              " 709,\n",
              " 710,\n",
              " 711,\n",
              " 712,\n",
              " 713,\n",
              " 714,\n",
              " 715,\n",
              " 716,\n",
              " 717,\n",
              " 718,\n",
              " 719,\n",
              " 720,\n",
              " 721,\n",
              " 722,\n",
              " 723,\n",
              " 724,\n",
              " 725,\n",
              " 726,\n",
              " 727,\n",
              " 728,\n",
              " 729,\n",
              " 730,\n",
              " 731,\n",
              " 732,\n",
              " 733,\n",
              " 734,\n",
              " 735,\n",
              " 736,\n",
              " 737,\n",
              " 738,\n",
              " 739,\n",
              " 740,\n",
              " 741,\n",
              " 742,\n",
              " 743,\n",
              " 744,\n",
              " 745,\n",
              " 746,\n",
              " 747,\n",
              " 748,\n",
              " 749,\n",
              " 750,\n",
              " 751,\n",
              " 752,\n",
              " 753,\n",
              " 754,\n",
              " 755,\n",
              " 756,\n",
              " 757,\n",
              " 758,\n",
              " 759,\n",
              " 760,\n",
              " 761,\n",
              " 762,\n",
              " 763,\n",
              " 764,\n",
              " 765,\n",
              " 766,\n",
              " 767,\n",
              " 768,\n",
              " 769,\n",
              " 770,\n",
              " 771,\n",
              " 772,\n",
              " 773,\n",
              " 774,\n",
              " 775,\n",
              " 776,\n",
              " 777,\n",
              " 778,\n",
              " 779,\n",
              " 780,\n",
              " 781,\n",
              " 782,\n",
              " 783,\n",
              " 784,\n",
              " 785,\n",
              " 786,\n",
              " 787,\n",
              " 788,\n",
              " 789,\n",
              " 790,\n",
              " 791,\n",
              " 792,\n",
              " 793,\n",
              " 794,\n",
              " 795,\n",
              " 796,\n",
              " 797,\n",
              " 798,\n",
              " 799,\n",
              " 800,\n",
              " 801,\n",
              " 802,\n",
              " 803,\n",
              " 804,\n",
              " 805,\n",
              " 806,\n",
              " 807,\n",
              " 808,\n",
              " 809,\n",
              " 810,\n",
              " 811,\n",
              " 812,\n",
              " 813,\n",
              " 814,\n",
              " 815,\n",
              " 816,\n",
              " 817,\n",
              " 818,\n",
              " 819,\n",
              " 820,\n",
              " 821,\n",
              " 822,\n",
              " 823,\n",
              " 824,\n",
              " 825,\n",
              " 826,\n",
              " 827,\n",
              " 828,\n",
              " 829,\n",
              " 830,\n",
              " 831,\n",
              " 832,\n",
              " 833,\n",
              " 834,\n",
              " 835,\n",
              " 836,\n",
              " 837,\n",
              " 838,\n",
              " 839,\n",
              " 840,\n",
              " 841,\n",
              " 842,\n",
              " 843,\n",
              " 844,\n",
              " 845,\n",
              " 846,\n",
              " 847,\n",
              " 848,\n",
              " 849,\n",
              " 850,\n",
              " 851,\n",
              " 852,\n",
              " 853,\n",
              " 854,\n",
              " 855,\n",
              " 856,\n",
              " 857,\n",
              " 858,\n",
              " 859,\n",
              " 860,\n",
              " 861,\n",
              " 862,\n",
              " 863,\n",
              " 864,\n",
              " 865,\n",
              " 866,\n",
              " 867,\n",
              " 868,\n",
              " 869,\n",
              " 870,\n",
              " 871,\n",
              " 872,\n",
              " 873,\n",
              " 874,\n",
              " 875,\n",
              " 876,\n",
              " 877,\n",
              " 878,\n",
              " 879,\n",
              " 880,\n",
              " 881,\n",
              " 882,\n",
              " 883,\n",
              " 884,\n",
              " 885,\n",
              " 886,\n",
              " 887,\n",
              " 888,\n",
              " 889,\n",
              " 890,\n",
              " 891,\n",
              " 892,\n",
              " 893,\n",
              " 894,\n",
              " 895,\n",
              " 896,\n",
              " 897,\n",
              " 898,\n",
              " 899,\n",
              " 900,\n",
              " 901,\n",
              " 902,\n",
              " 903,\n",
              " 904,\n",
              " 905,\n",
              " 906,\n",
              " 907,\n",
              " 908,\n",
              " 909,\n",
              " 910,\n",
              " 911,\n",
              " 912,\n",
              " 913,\n",
              " 914,\n",
              " 915,\n",
              " 916,\n",
              " 917,\n",
              " 918,\n",
              " 919,\n",
              " 920,\n",
              " 921,\n",
              " 922,\n",
              " 923,\n",
              " 924,\n",
              " 925,\n",
              " 926,\n",
              " 927,\n",
              " 928,\n",
              " 929,\n",
              " 930,\n",
              " 931,\n",
              " 932,\n",
              " 933,\n",
              " 934,\n",
              " 935,\n",
              " 936,\n",
              " 937,\n",
              " 938,\n",
              " 939,\n",
              " 940,\n",
              " 941,\n",
              " 942,\n",
              " 943,\n",
              " 944,\n",
              " 945,\n",
              " 946,\n",
              " 947,\n",
              " 948,\n",
              " 949,\n",
              " 950,\n",
              " 951,\n",
              " 952,\n",
              " 953,\n",
              " 954,\n",
              " 955,\n",
              " 956,\n",
              " 957,\n",
              " 958,\n",
              " 959,\n",
              " 960,\n",
              " 961,\n",
              " 962,\n",
              " 963,\n",
              " 964,\n",
              " 965,\n",
              " 966,\n",
              " 967,\n",
              " 968,\n",
              " 969,\n",
              " 970,\n",
              " 971,\n",
              " 972,\n",
              " 973,\n",
              " 974,\n",
              " 975,\n",
              " 976,\n",
              " 977,\n",
              " 978,\n",
              " 979,\n",
              " 980,\n",
              " 981,\n",
              " 982,\n",
              " 983,\n",
              " 984,\n",
              " 985,\n",
              " 986,\n",
              " 987,\n",
              " 988,\n",
              " 989,\n",
              " 990,\n",
              " 991,\n",
              " 992,\n",
              " 993,\n",
              " 994,\n",
              " 995,\n",
              " 996,\n",
              " 997,\n",
              " 998,\n",
              " 999,\n",
              " ...}"
            ]
          },
          "execution_count": 329,
          "metadata": {},
          "output_type": "execute_result"
        }
      ]
    },
    {
      "cell_type": "code",
      "metadata": {
        "id": "16f5313c-0822-4ff0-a57d-5abcfb6266d2"
      },
      "source": [
        "# Criar uma nova coluna chamada 'artist_inteiros'\n",
        "dataset['artist_inteiros'] = inteiros"
      ],
      "id": "16f5313c-0822-4ff0-a57d-5abcfb6266d2",
      "execution_count": null,
      "outputs": []
    },
    {
      "cell_type": "code",
      "metadata": {
        "id": "78788709-de1b-4fff-81cf-a5daa3014faa",
        "outputId": "1e9a74b3-b5eb-4756-f839-8d08ace7e885"
      },
      "source": [
        "# Visualizando o dataset alterado.\n",
        "dataset.head()"
      ],
      "id": "78788709-de1b-4fff-81cf-a5daa3014faa",
      "execution_count": null,
      "outputs": [
        {
          "data": {
            "text/html": [
              "<div>\n",
              "<style scoped>\n",
              "    .dataframe tbody tr th:only-of-type {\n",
              "        vertical-align: middle;\n",
              "    }\n",
              "\n",
              "    .dataframe tbody tr th {\n",
              "        vertical-align: top;\n",
              "    }\n",
              "\n",
              "    .dataframe thead th {\n",
              "        text-align: right;\n",
              "    }\n",
              "</style>\n",
              "<table border=\"1\" class=\"dataframe\">\n",
              "  <thead>\n",
              "    <tr style=\"text-align: right;\">\n",
              "      <th></th>\n",
              "      <th>acousticness</th>\n",
              "      <th>danceability</th>\n",
              "      <th>duration_ms</th>\n",
              "      <th>energy</th>\n",
              "      <th>instrumentalness</th>\n",
              "      <th>key</th>\n",
              "      <th>liveness</th>\n",
              "      <th>loudness</th>\n",
              "      <th>mode</th>\n",
              "      <th>speechiness</th>\n",
              "      <th>tempo</th>\n",
              "      <th>time_signature</th>\n",
              "      <th>valence</th>\n",
              "      <th>artist</th>\n",
              "      <th>artist_inteiros</th>\n",
              "    </tr>\n",
              "  </thead>\n",
              "  <tbody>\n",
              "    <tr>\n",
              "      <th>0</th>\n",
              "      <td>0.0102</td>\n",
              "      <td>0.833</td>\n",
              "      <td>204600</td>\n",
              "      <td>0.434</td>\n",
              "      <td>0.021900</td>\n",
              "      <td>2</td>\n",
              "      <td>0.1650</td>\n",
              "      <td>-8.795</td>\n",
              "      <td>1</td>\n",
              "      <td>0.4310</td>\n",
              "      <td>150.062</td>\n",
              "      <td>4.0</td>\n",
              "      <td>0.286</td>\n",
              "      <td>Future</td>\n",
              "      <td>449</td>\n",
              "    </tr>\n",
              "    <tr>\n",
              "      <th>1</th>\n",
              "      <td>0.1990</td>\n",
              "      <td>0.743</td>\n",
              "      <td>326933</td>\n",
              "      <td>0.359</td>\n",
              "      <td>0.006110</td>\n",
              "      <td>1</td>\n",
              "      <td>0.1370</td>\n",
              "      <td>-10.401</td>\n",
              "      <td>1</td>\n",
              "      <td>0.0794</td>\n",
              "      <td>160.083</td>\n",
              "      <td>4.0</td>\n",
              "      <td>0.588</td>\n",
              "      <td>Childish Gambino</td>\n",
              "      <td>222</td>\n",
              "    </tr>\n",
              "    <tr>\n",
              "      <th>2</th>\n",
              "      <td>0.0344</td>\n",
              "      <td>0.838</td>\n",
              "      <td>185707</td>\n",
              "      <td>0.412</td>\n",
              "      <td>0.000234</td>\n",
              "      <td>2</td>\n",
              "      <td>0.1590</td>\n",
              "      <td>-7.148</td>\n",
              "      <td>1</td>\n",
              "      <td>0.2890</td>\n",
              "      <td>75.044</td>\n",
              "      <td>4.0</td>\n",
              "      <td>0.173</td>\n",
              "      <td>Future</td>\n",
              "      <td>449</td>\n",
              "    </tr>\n",
              "    <tr>\n",
              "      <th>3</th>\n",
              "      <td>0.6040</td>\n",
              "      <td>0.494</td>\n",
              "      <td>199413</td>\n",
              "      <td>0.338</td>\n",
              "      <td>0.510000</td>\n",
              "      <td>5</td>\n",
              "      <td>0.0922</td>\n",
              "      <td>-15.236</td>\n",
              "      <td>1</td>\n",
              "      <td>0.0261</td>\n",
              "      <td>86.468</td>\n",
              "      <td>4.0</td>\n",
              "      <td>0.230</td>\n",
              "      <td>Beach House</td>\n",
              "      <td>95</td>\n",
              "    </tr>\n",
              "    <tr>\n",
              "      <th>4</th>\n",
              "      <td>0.1800</td>\n",
              "      <td>0.678</td>\n",
              "      <td>392893</td>\n",
              "      <td>0.561</td>\n",
              "      <td>0.512000</td>\n",
              "      <td>5</td>\n",
              "      <td>0.4390</td>\n",
              "      <td>-11.648</td>\n",
              "      <td>0</td>\n",
              "      <td>0.0694</td>\n",
              "      <td>174.004</td>\n",
              "      <td>4.0</td>\n",
              "      <td>0.904</td>\n",
              "      <td>Junior Boys</td>\n",
              "      <td>628</td>\n",
              "    </tr>\n",
              "  </tbody>\n",
              "</table>\n",
              "</div>"
            ],
            "text/plain": [
              "   acousticness  danceability  duration_ms  energy  instrumentalness  key  \\\n",
              "0        0.0102         0.833       204600   0.434          0.021900    2   \n",
              "1        0.1990         0.743       326933   0.359          0.006110    1   \n",
              "2        0.0344         0.838       185707   0.412          0.000234    2   \n",
              "3        0.6040         0.494       199413   0.338          0.510000    5   \n",
              "4        0.1800         0.678       392893   0.561          0.512000    5   \n",
              "\n",
              "   liveness  loudness  mode  speechiness    tempo  time_signature  valence  \\\n",
              "0    0.1650    -8.795     1       0.4310  150.062             4.0    0.286   \n",
              "1    0.1370   -10.401     1       0.0794  160.083             4.0    0.588   \n",
              "2    0.1590    -7.148     1       0.2890   75.044             4.0    0.173   \n",
              "3    0.0922   -15.236     1       0.0261   86.468             4.0    0.230   \n",
              "4    0.4390   -11.648     0       0.0694  174.004             4.0    0.904   \n",
              "\n",
              "             artist  artist_inteiros  \n",
              "0            Future              449  \n",
              "1  Childish Gambino              222  \n",
              "2            Future              449  \n",
              "3       Beach House               95  \n",
              "4       Junior Boys              628  "
            ]
          },
          "execution_count": 331,
          "metadata": {},
          "output_type": "execute_result"
        }
      ]
    },
    {
      "cell_type": "markdown",
      "metadata": {
        "id": "ae0bfebd-8de3-4cf8-bdf1-91ba1f4b79f0"
      },
      "source": [
        "# One Hot Encoding"
      ],
      "id": "ae0bfebd-8de3-4cf8-bdf1-91ba1f4b79f0"
    },
    {
      "cell_type": "markdown",
      "metadata": {
        "id": "10bd33d6-4ebb-4cba-b61c-e6e290f262e2"
      },
      "source": [
        "* Técnica usada para codificar valores categóricos em númericos.\n",
        "* Cria uma matriz de presença.\n",
        "* Resolve o problema __ordenação__ nos dados gerados pelo LabelEncoder."
      ],
      "id": "10bd33d6-4ebb-4cba-b61c-e6e290f262e2"
    },
    {
      "cell_type": "code",
      "metadata": {
        "id": "8b495b68-3fb1-4882-a544-6dc14633b99a",
        "outputId": "46cf8b89-4492-4ee5-c446-dc0e0b4d2c71"
      },
      "source": [
        "# Apague a coluna 'Artist'\n",
        "remove_features(['artist'])"
      ],
      "id": "8b495b68-3fb1-4882-a544-6dc14633b99a",
      "execution_count": null,
      "outputs": [
        {
          "data": {
            "text/plain": [
              "0"
            ]
          },
          "execution_count": 559,
          "metadata": {},
          "output_type": "execute_result"
        }
      ]
    },
    {
      "cell_type": "code",
      "metadata": {
        "id": "577aa233-44f2-4c20-b98e-8de45f805ffe",
        "outputId": "f55099ce-c59e-452b-e917-0c36423ce37e"
      },
      "source": [
        "dataset.head()"
      ],
      "id": "577aa233-44f2-4c20-b98e-8de45f805ffe",
      "execution_count": null,
      "outputs": [
        {
          "data": {
            "text/html": [
              "<div>\n",
              "<style scoped>\n",
              "    .dataframe tbody tr th:only-of-type {\n",
              "        vertical-align: middle;\n",
              "    }\n",
              "\n",
              "    .dataframe tbody tr th {\n",
              "        vertical-align: top;\n",
              "    }\n",
              "\n",
              "    .dataframe thead th {\n",
              "        text-align: right;\n",
              "    }\n",
              "</style>\n",
              "<table border=\"1\" class=\"dataframe\">\n",
              "  <thead>\n",
              "    <tr style=\"text-align: right;\">\n",
              "      <th></th>\n",
              "      <th>acousticness</th>\n",
              "      <th>danceability</th>\n",
              "      <th>duration_ms</th>\n",
              "      <th>energy</th>\n",
              "      <th>instrumentalness</th>\n",
              "      <th>key</th>\n",
              "      <th>liveness</th>\n",
              "      <th>loudness</th>\n",
              "      <th>mode</th>\n",
              "      <th>speechiness</th>\n",
              "      <th>tempo</th>\n",
              "      <th>time_signature</th>\n",
              "      <th>valence</th>\n",
              "    </tr>\n",
              "  </thead>\n",
              "  <tbody>\n",
              "    <tr>\n",
              "      <th>0</th>\n",
              "      <td>0.0102</td>\n",
              "      <td>0.833</td>\n",
              "      <td>204600</td>\n",
              "      <td>0.434</td>\n",
              "      <td>0.021900</td>\n",
              "      <td>2</td>\n",
              "      <td>0.1650</td>\n",
              "      <td>-8.795</td>\n",
              "      <td>1</td>\n",
              "      <td>0.4310</td>\n",
              "      <td>150.062</td>\n",
              "      <td>4.0</td>\n",
              "      <td>0.286</td>\n",
              "    </tr>\n",
              "    <tr>\n",
              "      <th>1</th>\n",
              "      <td>0.1990</td>\n",
              "      <td>0.743</td>\n",
              "      <td>326933</td>\n",
              "      <td>0.359</td>\n",
              "      <td>0.006110</td>\n",
              "      <td>1</td>\n",
              "      <td>0.1370</td>\n",
              "      <td>-10.401</td>\n",
              "      <td>1</td>\n",
              "      <td>0.0794</td>\n",
              "      <td>160.083</td>\n",
              "      <td>4.0</td>\n",
              "      <td>0.588</td>\n",
              "    </tr>\n",
              "    <tr>\n",
              "      <th>2</th>\n",
              "      <td>0.0344</td>\n",
              "      <td>0.838</td>\n",
              "      <td>185707</td>\n",
              "      <td>0.412</td>\n",
              "      <td>0.000234</td>\n",
              "      <td>2</td>\n",
              "      <td>0.1590</td>\n",
              "      <td>-7.148</td>\n",
              "      <td>1</td>\n",
              "      <td>0.2890</td>\n",
              "      <td>75.044</td>\n",
              "      <td>4.0</td>\n",
              "      <td>0.173</td>\n",
              "    </tr>\n",
              "    <tr>\n",
              "      <th>3</th>\n",
              "      <td>0.6040</td>\n",
              "      <td>0.494</td>\n",
              "      <td>199413</td>\n",
              "      <td>0.338</td>\n",
              "      <td>0.510000</td>\n",
              "      <td>5</td>\n",
              "      <td>0.0922</td>\n",
              "      <td>-15.236</td>\n",
              "      <td>1</td>\n",
              "      <td>0.0261</td>\n",
              "      <td>86.468</td>\n",
              "      <td>4.0</td>\n",
              "      <td>0.230</td>\n",
              "    </tr>\n",
              "    <tr>\n",
              "      <th>4</th>\n",
              "      <td>0.1800</td>\n",
              "      <td>0.678</td>\n",
              "      <td>392893</td>\n",
              "      <td>0.561</td>\n",
              "      <td>0.512000</td>\n",
              "      <td>5</td>\n",
              "      <td>0.4390</td>\n",
              "      <td>-11.648</td>\n",
              "      <td>0</td>\n",
              "      <td>0.0694</td>\n",
              "      <td>174.004</td>\n",
              "      <td>4.0</td>\n",
              "      <td>0.904</td>\n",
              "    </tr>\n",
              "  </tbody>\n",
              "</table>\n",
              "</div>"
            ],
            "text/plain": [
              "   acousticness  danceability  duration_ms  energy  instrumentalness  key  \\\n",
              "0        0.0102         0.833       204600   0.434          0.021900    2   \n",
              "1        0.1990         0.743       326933   0.359          0.006110    1   \n",
              "2        0.0344         0.838       185707   0.412          0.000234    2   \n",
              "3        0.6040         0.494       199413   0.338          0.510000    5   \n",
              "4        0.1800         0.678       392893   0.561          0.512000    5   \n",
              "\n",
              "   liveness  loudness  mode  speechiness    tempo  time_signature  valence  \n",
              "0    0.1650    -8.795     1       0.4310  150.062             4.0    0.286  \n",
              "1    0.1370   -10.401     1       0.0794  160.083             4.0    0.588  \n",
              "2    0.1590    -7.148     1       0.2890   75.044             4.0    0.173  \n",
              "3    0.0922   -15.236     1       0.0261   86.468             4.0    0.230  \n",
              "4    0.4390   -11.648     0       0.0694  174.004             4.0    0.904  "
            ]
          },
          "execution_count": 560,
          "metadata": {},
          "output_type": "execute_result"
        }
      ]
    },
    {
      "cell_type": "code",
      "metadata": {
        "id": "6f12db5b-52e1-4bdb-b760-cc0ac53aa606"
      },
      "source": [
        "# Importa o pacote OneHotEncoder\n",
        "from sklearn.preprocessing import OneHotEncoder"
      ],
      "id": "6f12db5b-52e1-4bdb-b760-cc0ac53aa606",
      "execution_count": null,
      "outputs": []
    },
    {
      "cell_type": "code",
      "metadata": {
        "id": "72b624b4-ad42-4d42-8ac9-9fa08d97e88d"
      },
      "source": [
        "# Instancia um objeto do tipo OnehotEncoder\n",
        "ohe = OneHotEncoder()"
      ],
      "id": "72b624b4-ad42-4d42-8ac9-9fa08d97e88d",
      "execution_count": null,
      "outputs": []
    },
    {
      "cell_type": "code",
      "metadata": {
        "id": "8d03c01b-6fd1-4495-8f3f-4dd6ec9ac48a"
      },
      "source": [
        "# Transforma em arrays numpy o dataset.\n",
        "dataset_array = dataset.values"
      ],
      "id": "8d03c01b-6fd1-4495-8f3f-4dd6ec9ac48a",
      "execution_count": null,
      "outputs": []
    },
    {
      "cell_type": "code",
      "metadata": {
        "id": "a68123ba-afc5-4507-9a21-cc18649272bd"
      },
      "source": [
        "# Pegar o numero de Linhas.\n",
        "num_rows = dataset_array.shape[0]"
      ],
      "id": "a68123ba-afc5-4507-9a21-cc18649272bd",
      "execution_count": null,
      "outputs": []
    },
    {
      "cell_type": "code",
      "metadata": {
        "id": "2cf920e9-7ee4-49cb-ad3f-796ade1c021c"
      },
      "source": [
        "# Visualizando coluna de inteiros \n",
        "dataset_array[:][:,13]"
      ],
      "id": "2cf920e9-7ee4-49cb-ad3f-796ade1c021c",
      "execution_count": null,
      "outputs": []
    },
    {
      "cell_type": "code",
      "metadata": {
        "id": "841a0f02-cd3a-4b34-b763-0ec6a8520557"
      },
      "source": [
        "# Transforma a matriz em uma dimensão\n",
        "inteiros = inteiros.reshape(len(inteiros), 1)"
      ],
      "id": "841a0f02-cd3a-4b34-b763-0ec6a8520557",
      "execution_count": null,
      "outputs": []
    },
    {
      "cell_type": "code",
      "metadata": {
        "id": "9bc13b00-3a9f-4fa2-a84d-67154b312b13"
      },
      "source": [
        "# Criar as novas features a partir da matriz de presença \n",
        "novas_features = ohe.fit_transform(inteiros)"
      ],
      "id": "9bc13b00-3a9f-4fa2-a84d-67154b312b13",
      "execution_count": null,
      "outputs": []
    },
    {
      "cell_type": "code",
      "metadata": {
        "id": "2fc0b06c-9e5f-4e66-8c6c-052451c39f9e",
        "outputId": "7594105e-434d-498a-f7fd-585c7a295cd4"
      },
      "source": [
        "# Imprime as novas features \n",
        "novas_features"
      ],
      "id": "2fc0b06c-9e5f-4e66-8c6c-052451c39f9e",
      "execution_count": null,
      "outputs": [
        {
          "data": {
            "text/plain": [
              "<2017x1343 sparse matrix of type '<class 'numpy.float64'>'\n",
              "\twith 2017 stored elements in Compressed Sparse Row format>"
            ]
          },
          "execution_count": 568,
          "metadata": {},
          "output_type": "execute_result"
        }
      ]
    },
    {
      "cell_type": "code",
      "metadata": {
        "id": "48a89190-e4c9-4461-b994-7183f7bb7cd8"
      },
      "source": [
        "# Concatena as novas features ao array\n",
        "dataset_array = np.concatenate([dataset_array, novas_features.toarray()], axis=1)"
      ],
      "id": "48a89190-e4c9-4461-b994-7183f7bb7cd8",
      "execution_count": null,
      "outputs": []
    },
    {
      "cell_type": "code",
      "metadata": {
        "id": "54675ea1-c754-48ee-88ed-f82183514e54",
        "outputId": "7351daeb-8642-4ac9-ab04-96018f270c56"
      },
      "source": [
        "# Visualizando a quantidade de linhas e colunas da base \n",
        "dataset_array.shape "
      ],
      "id": "54675ea1-c754-48ee-88ed-f82183514e54",
      "execution_count": null,
      "outputs": [
        {
          "data": {
            "text/plain": [
              "(2017, 1356)"
            ]
          },
          "execution_count": 570,
          "metadata": {},
          "output_type": "execute_result"
        }
      ]
    },
    {
      "cell_type": "code",
      "metadata": {
        "id": "0ba33485-994e-42f4-ac1f-21c439d8e684"
      },
      "source": [
        "# Transforma em dataframe e visualiza as colunas \n",
        "dataf = pd.DataFrame(dataset_array)"
      ],
      "id": "0ba33485-994e-42f4-ac1f-21c439d8e684",
      "execution_count": null,
      "outputs": []
    },
    {
      "cell_type": "code",
      "metadata": {
        "id": "412c0e59-b16d-4438-9a5c-79ab133f86a6",
        "outputId": "048db8b0-4a5f-463d-ed16-8f25a3a592f4"
      },
      "source": [
        "dataf.head()"
      ],
      "id": "412c0e59-b16d-4438-9a5c-79ab133f86a6",
      "execution_count": null,
      "outputs": [
        {
          "data": {
            "text/html": [
              "<div>\n",
              "<style scoped>\n",
              "    .dataframe tbody tr th:only-of-type {\n",
              "        vertical-align: middle;\n",
              "    }\n",
              "\n",
              "    .dataframe tbody tr th {\n",
              "        vertical-align: top;\n",
              "    }\n",
              "\n",
              "    .dataframe thead th {\n",
              "        text-align: right;\n",
              "    }\n",
              "</style>\n",
              "<table border=\"1\" class=\"dataframe\">\n",
              "  <thead>\n",
              "    <tr style=\"text-align: right;\">\n",
              "      <th></th>\n",
              "      <th>0</th>\n",
              "      <th>1</th>\n",
              "      <th>2</th>\n",
              "      <th>3</th>\n",
              "      <th>4</th>\n",
              "      <th>5</th>\n",
              "      <th>6</th>\n",
              "      <th>7</th>\n",
              "      <th>8</th>\n",
              "      <th>9</th>\n",
              "      <th>...</th>\n",
              "      <th>1346</th>\n",
              "      <th>1347</th>\n",
              "      <th>1348</th>\n",
              "      <th>1349</th>\n",
              "      <th>1350</th>\n",
              "      <th>1351</th>\n",
              "      <th>1352</th>\n",
              "      <th>1353</th>\n",
              "      <th>1354</th>\n",
              "      <th>1355</th>\n",
              "    </tr>\n",
              "  </thead>\n",
              "  <tbody>\n",
              "    <tr>\n",
              "      <th>0</th>\n",
              "      <td>0.0102</td>\n",
              "      <td>0.833</td>\n",
              "      <td>204600.0</td>\n",
              "      <td>0.434</td>\n",
              "      <td>0.021900</td>\n",
              "      <td>2.0</td>\n",
              "      <td>0.1650</td>\n",
              "      <td>-8.795</td>\n",
              "      <td>1.0</td>\n",
              "      <td>0.4310</td>\n",
              "      <td>...</td>\n",
              "      <td>0.0</td>\n",
              "      <td>0.0</td>\n",
              "      <td>0.0</td>\n",
              "      <td>0.0</td>\n",
              "      <td>0.0</td>\n",
              "      <td>0.0</td>\n",
              "      <td>0.0</td>\n",
              "      <td>0.0</td>\n",
              "      <td>0.0</td>\n",
              "      <td>0.0</td>\n",
              "    </tr>\n",
              "    <tr>\n",
              "      <th>1</th>\n",
              "      <td>0.1990</td>\n",
              "      <td>0.743</td>\n",
              "      <td>326933.0</td>\n",
              "      <td>0.359</td>\n",
              "      <td>0.006110</td>\n",
              "      <td>1.0</td>\n",
              "      <td>0.1370</td>\n",
              "      <td>-10.401</td>\n",
              "      <td>1.0</td>\n",
              "      <td>0.0794</td>\n",
              "      <td>...</td>\n",
              "      <td>0.0</td>\n",
              "      <td>0.0</td>\n",
              "      <td>0.0</td>\n",
              "      <td>0.0</td>\n",
              "      <td>0.0</td>\n",
              "      <td>0.0</td>\n",
              "      <td>0.0</td>\n",
              "      <td>0.0</td>\n",
              "      <td>0.0</td>\n",
              "      <td>0.0</td>\n",
              "    </tr>\n",
              "    <tr>\n",
              "      <th>2</th>\n",
              "      <td>0.0344</td>\n",
              "      <td>0.838</td>\n",
              "      <td>185707.0</td>\n",
              "      <td>0.412</td>\n",
              "      <td>0.000234</td>\n",
              "      <td>2.0</td>\n",
              "      <td>0.1590</td>\n",
              "      <td>-7.148</td>\n",
              "      <td>1.0</td>\n",
              "      <td>0.2890</td>\n",
              "      <td>...</td>\n",
              "      <td>0.0</td>\n",
              "      <td>0.0</td>\n",
              "      <td>0.0</td>\n",
              "      <td>0.0</td>\n",
              "      <td>0.0</td>\n",
              "      <td>0.0</td>\n",
              "      <td>0.0</td>\n",
              "      <td>0.0</td>\n",
              "      <td>0.0</td>\n",
              "      <td>0.0</td>\n",
              "    </tr>\n",
              "    <tr>\n",
              "      <th>3</th>\n",
              "      <td>0.6040</td>\n",
              "      <td>0.494</td>\n",
              "      <td>199413.0</td>\n",
              "      <td>0.338</td>\n",
              "      <td>0.510000</td>\n",
              "      <td>5.0</td>\n",
              "      <td>0.0922</td>\n",
              "      <td>-15.236</td>\n",
              "      <td>1.0</td>\n",
              "      <td>0.0261</td>\n",
              "      <td>...</td>\n",
              "      <td>0.0</td>\n",
              "      <td>0.0</td>\n",
              "      <td>0.0</td>\n",
              "      <td>0.0</td>\n",
              "      <td>0.0</td>\n",
              "      <td>0.0</td>\n",
              "      <td>0.0</td>\n",
              "      <td>0.0</td>\n",
              "      <td>0.0</td>\n",
              "      <td>0.0</td>\n",
              "    </tr>\n",
              "    <tr>\n",
              "      <th>4</th>\n",
              "      <td>0.1800</td>\n",
              "      <td>0.678</td>\n",
              "      <td>392893.0</td>\n",
              "      <td>0.561</td>\n",
              "      <td>0.512000</td>\n",
              "      <td>5.0</td>\n",
              "      <td>0.4390</td>\n",
              "      <td>-11.648</td>\n",
              "      <td>0.0</td>\n",
              "      <td>0.0694</td>\n",
              "      <td>...</td>\n",
              "      <td>0.0</td>\n",
              "      <td>0.0</td>\n",
              "      <td>0.0</td>\n",
              "      <td>0.0</td>\n",
              "      <td>0.0</td>\n",
              "      <td>0.0</td>\n",
              "      <td>0.0</td>\n",
              "      <td>0.0</td>\n",
              "      <td>0.0</td>\n",
              "      <td>0.0</td>\n",
              "    </tr>\n",
              "  </tbody>\n",
              "</table>\n",
              "<p>5 rows × 1356 columns</p>\n",
              "</div>"
            ],
            "text/plain": [
              "     0      1         2      3         4     5       6       7     8     \\\n",
              "0  0.0102  0.833  204600.0  0.434  0.021900   2.0  0.1650  -8.795   1.0   \n",
              "1  0.1990  0.743  326933.0  0.359  0.006110   1.0  0.1370 -10.401   1.0   \n",
              "2  0.0344  0.838  185707.0  0.412  0.000234   2.0  0.1590  -7.148   1.0   \n",
              "3  0.6040  0.494  199413.0  0.338  0.510000   5.0  0.0922 -15.236   1.0   \n",
              "4  0.1800  0.678  392893.0  0.561  0.512000   5.0  0.4390 -11.648   0.0   \n",
              "\n",
              "     9     ...  1346  1347  1348  1349  1350  1351  1352  1353  1354  1355  \n",
              "0  0.4310  ...   0.0   0.0   0.0   0.0   0.0   0.0   0.0   0.0   0.0   0.0  \n",
              "1  0.0794  ...   0.0   0.0   0.0   0.0   0.0   0.0   0.0   0.0   0.0   0.0  \n",
              "2  0.2890  ...   0.0   0.0   0.0   0.0   0.0   0.0   0.0   0.0   0.0   0.0  \n",
              "3  0.0261  ...   0.0   0.0   0.0   0.0   0.0   0.0   0.0   0.0   0.0   0.0  \n",
              "4  0.0694  ...   0.0   0.0   0.0   0.0   0.0   0.0   0.0   0.0   0.0   0.0  \n",
              "\n",
              "[5 rows x 1356 columns]"
            ]
          },
          "execution_count": 572,
          "metadata": {},
          "output_type": "execute_result"
        }
      ]
    },
    {
      "cell_type": "markdown",
      "metadata": {
        "id": "7e9e1348-f0ed-49ab-8765-ee8ead897069"
      },
      "source": [
        "## Pandas Get_dummies "
      ],
      "id": "7e9e1348-f0ed-49ab-8765-ee8ead897069"
    },
    {
      "cell_type": "markdown",
      "metadata": {
        "id": "84c04d8d-bc92-4158-afe2-dc33a75d0f19"
      },
      "source": [
        "* Cria uma matriz de presença feito com o OHE."
      ],
      "id": "84c04d8d-bc92-4158-afe2-dc33a75d0f19"
    },
    {
      "cell_type": "code",
      "metadata": {
        "id": "47ca93e8-5d75-4385-9c98-d7a51c894f0d"
      },
      "source": [
        "# Aplicando o get dummies nos dados.\n",
        "dataset = pd.get_dummies(dataset, columns=['artist'], prefix=['artist'])"
      ],
      "id": "47ca93e8-5d75-4385-9c98-d7a51c894f0d",
      "execution_count": null,
      "outputs": []
    },
    {
      "cell_type": "code",
      "metadata": {
        "id": "8ceaf113-b319-4550-8525-b15bc4ed355d",
        "outputId": "29ab4c45-c87f-4abd-98c1-7c7ad8d1dd7f"
      },
      "source": [
        "# Visualizando 'features' gerados.\n",
        "dataset.columns"
      ],
      "id": "8ceaf113-b319-4550-8525-b15bc4ed355d",
      "execution_count": null,
      "outputs": [
        {
          "data": {
            "text/plain": [
              "Index(['acousticness', 'danceability', 'duration_ms', 'energy',\n",
              "       'instrumentalness', 'key', 'liveness', 'loudness', 'mode',\n",
              "       'speechiness',\n",
              "       ...\n",
              "       'artist_alt-J', 'artist_deadmau5', 'artist_for KING & COUNTRY',\n",
              "       'artist_one sonic society', 'artist_tUnE-yArDs', 'artist_tobyMac',\n",
              "       'artist_권나무 Kwon Tree', 'artist_도시총각 Dosichonggak',\n",
              "       'artist_카우칩스 The CowChips', 'artist_플랫핏 Flat Feet'],\n",
              "      dtype='object', length=1356)"
            ]
          },
          "execution_count": 590,
          "metadata": {},
          "output_type": "execute_result"
        }
      ]
    },
    {
      "cell_type": "code",
      "metadata": {
        "id": "fd7c1c94-4e0c-459d-91f0-09a9c7224d9f",
        "outputId": "c56c0430-36ce-48c8-a879-fd9ee97f822d"
      },
      "source": [
        "len(dataset.columns)"
      ],
      "id": "fd7c1c94-4e0c-459d-91f0-09a9c7224d9f",
      "execution_count": null,
      "outputs": [
        {
          "data": {
            "text/plain": [
              "1356"
            ]
          },
          "execution_count": 591,
          "metadata": {},
          "output_type": "execute_result"
        }
      ]
    },
    {
      "cell_type": "code",
      "metadata": {
        "id": "c92c0b6e-b777-4148-a8a1-f3c73691ee5e",
        "outputId": "8d0144e3-1938-4ce8-8ebe-489870b40c99"
      },
      "source": [
        "# Visualizando as colunas \n",
        "dataset.dtypes "
      ],
      "id": "c92c0b6e-b777-4148-a8a1-f3c73691ee5e",
      "execution_count": null,
      "outputs": [
        {
          "data": {
            "text/plain": [
              "acousticness                float64\n",
              "danceability                float64\n",
              "duration_ms                   int64\n",
              "energy                      float64\n",
              "instrumentalness            float64\n",
              "                             ...   \n",
              "artist_tobyMac                uint8\n",
              "artist_권나무 Kwon Tree          uint8\n",
              "artist_도시총각 Dosichonggak      uint8\n",
              "artist_카우칩스 The CowChips      uint8\n",
              "artist_플랫핏 Flat Feet          uint8\n",
              "Length: 1356, dtype: object"
            ]
          },
          "execution_count": 592,
          "metadata": {},
          "output_type": "execute_result"
        }
      ]
    },
    {
      "cell_type": "code",
      "metadata": {
        "id": "37f064a2-fecb-47e0-a923-baad08ce1827",
        "outputId": "771d3e6c-16db-4b26-f6cc-24d83d9d1c86"
      },
      "source": [
        "# Checando missings values\n",
        "dataset.isnull().sum()"
      ],
      "id": "37f064a2-fecb-47e0-a923-baad08ce1827",
      "execution_count": null,
      "outputs": [
        {
          "data": {
            "text/plain": [
              "acousticness                0\n",
              "danceability                0\n",
              "duration_ms                 0\n",
              "energy                      0\n",
              "instrumentalness            0\n",
              "                           ..\n",
              "artist_tobyMac              0\n",
              "artist_권나무 Kwon Tree        0\n",
              "artist_도시총각 Dosichonggak    0\n",
              "artist_카우칩스 The CowChips    0\n",
              "artist_플랫핏 Flat Feet        0\n",
              "Length: 1356, dtype: int64"
            ]
          },
          "execution_count": 593,
          "metadata": {},
          "output_type": "execute_result"
        }
      ]
    },
    {
      "cell_type": "code",
      "metadata": {
        "id": "edcfc9f9-da43-444f-a05c-de0f136c7123",
        "outputId": "93c06ca3-c6a3-43c9-8727-52d025684618"
      },
      "source": [
        "# Coluna artist\n",
        "dataset.values[:][:,13]"
      ],
      "id": "edcfc9f9-da43-444f-a05c-de0f136c7123",
      "execution_count": null,
      "outputs": [
        {
          "data": {
            "text/plain": [
              "array([0., 0., 0., ..., 0., 0., 0.])"
            ]
          },
          "execution_count": 594,
          "metadata": {},
          "output_type": "execute_result"
        }
      ]
    },
    {
      "cell_type": "code",
      "metadata": {
        "id": "e6f34e31-18e1-46c1-b408-12727e5b8a99",
        "outputId": "51f5ea2b-c394-4d8d-85cb-306fa86ba77c"
      },
      "source": [
        "# Visualizando o dataset alterado.\n",
        "dataset.head()"
      ],
      "id": "e6f34e31-18e1-46c1-b408-12727e5b8a99",
      "execution_count": null,
      "outputs": [
        {
          "data": {
            "text/html": [
              "<div>\n",
              "<style scoped>\n",
              "    .dataframe tbody tr th:only-of-type {\n",
              "        vertical-align: middle;\n",
              "    }\n",
              "\n",
              "    .dataframe tbody tr th {\n",
              "        vertical-align: top;\n",
              "    }\n",
              "\n",
              "    .dataframe thead th {\n",
              "        text-align: right;\n",
              "    }\n",
              "</style>\n",
              "<table border=\"1\" class=\"dataframe\">\n",
              "  <thead>\n",
              "    <tr style=\"text-align: right;\">\n",
              "      <th></th>\n",
              "      <th>acousticness</th>\n",
              "      <th>danceability</th>\n",
              "      <th>duration_ms</th>\n",
              "      <th>energy</th>\n",
              "      <th>instrumentalness</th>\n",
              "      <th>key</th>\n",
              "      <th>liveness</th>\n",
              "      <th>loudness</th>\n",
              "      <th>mode</th>\n",
              "      <th>speechiness</th>\n",
              "      <th>...</th>\n",
              "      <th>artist_alt-J</th>\n",
              "      <th>artist_deadmau5</th>\n",
              "      <th>artist_for KING &amp; COUNTRY</th>\n",
              "      <th>artist_one sonic society</th>\n",
              "      <th>artist_tUnE-yArDs</th>\n",
              "      <th>artist_tobyMac</th>\n",
              "      <th>artist_권나무 Kwon Tree</th>\n",
              "      <th>artist_도시총각 Dosichonggak</th>\n",
              "      <th>artist_카우칩스 The CowChips</th>\n",
              "      <th>artist_플랫핏 Flat Feet</th>\n",
              "    </tr>\n",
              "  </thead>\n",
              "  <tbody>\n",
              "    <tr>\n",
              "      <th>0</th>\n",
              "      <td>0.0102</td>\n",
              "      <td>0.833</td>\n",
              "      <td>204600</td>\n",
              "      <td>0.434</td>\n",
              "      <td>0.021900</td>\n",
              "      <td>2</td>\n",
              "      <td>0.1650</td>\n",
              "      <td>-8.795</td>\n",
              "      <td>1</td>\n",
              "      <td>0.4310</td>\n",
              "      <td>...</td>\n",
              "      <td>0</td>\n",
              "      <td>0</td>\n",
              "      <td>0</td>\n",
              "      <td>0</td>\n",
              "      <td>0</td>\n",
              "      <td>0</td>\n",
              "      <td>0</td>\n",
              "      <td>0</td>\n",
              "      <td>0</td>\n",
              "      <td>0</td>\n",
              "    </tr>\n",
              "    <tr>\n",
              "      <th>1</th>\n",
              "      <td>0.1990</td>\n",
              "      <td>0.743</td>\n",
              "      <td>326933</td>\n",
              "      <td>0.359</td>\n",
              "      <td>0.006110</td>\n",
              "      <td>1</td>\n",
              "      <td>0.1370</td>\n",
              "      <td>-10.401</td>\n",
              "      <td>1</td>\n",
              "      <td>0.0794</td>\n",
              "      <td>...</td>\n",
              "      <td>0</td>\n",
              "      <td>0</td>\n",
              "      <td>0</td>\n",
              "      <td>0</td>\n",
              "      <td>0</td>\n",
              "      <td>0</td>\n",
              "      <td>0</td>\n",
              "      <td>0</td>\n",
              "      <td>0</td>\n",
              "      <td>0</td>\n",
              "    </tr>\n",
              "    <tr>\n",
              "      <th>2</th>\n",
              "      <td>0.0344</td>\n",
              "      <td>0.838</td>\n",
              "      <td>185707</td>\n",
              "      <td>0.412</td>\n",
              "      <td>0.000234</td>\n",
              "      <td>2</td>\n",
              "      <td>0.1590</td>\n",
              "      <td>-7.148</td>\n",
              "      <td>1</td>\n",
              "      <td>0.2890</td>\n",
              "      <td>...</td>\n",
              "      <td>0</td>\n",
              "      <td>0</td>\n",
              "      <td>0</td>\n",
              "      <td>0</td>\n",
              "      <td>0</td>\n",
              "      <td>0</td>\n",
              "      <td>0</td>\n",
              "      <td>0</td>\n",
              "      <td>0</td>\n",
              "      <td>0</td>\n",
              "    </tr>\n",
              "    <tr>\n",
              "      <th>3</th>\n",
              "      <td>0.6040</td>\n",
              "      <td>0.494</td>\n",
              "      <td>199413</td>\n",
              "      <td>0.338</td>\n",
              "      <td>0.510000</td>\n",
              "      <td>5</td>\n",
              "      <td>0.0922</td>\n",
              "      <td>-15.236</td>\n",
              "      <td>1</td>\n",
              "      <td>0.0261</td>\n",
              "      <td>...</td>\n",
              "      <td>0</td>\n",
              "      <td>0</td>\n",
              "      <td>0</td>\n",
              "      <td>0</td>\n",
              "      <td>0</td>\n",
              "      <td>0</td>\n",
              "      <td>0</td>\n",
              "      <td>0</td>\n",
              "      <td>0</td>\n",
              "      <td>0</td>\n",
              "    </tr>\n",
              "    <tr>\n",
              "      <th>4</th>\n",
              "      <td>0.1800</td>\n",
              "      <td>0.678</td>\n",
              "      <td>392893</td>\n",
              "      <td>0.561</td>\n",
              "      <td>0.512000</td>\n",
              "      <td>5</td>\n",
              "      <td>0.4390</td>\n",
              "      <td>-11.648</td>\n",
              "      <td>0</td>\n",
              "      <td>0.0694</td>\n",
              "      <td>...</td>\n",
              "      <td>0</td>\n",
              "      <td>0</td>\n",
              "      <td>0</td>\n",
              "      <td>0</td>\n",
              "      <td>0</td>\n",
              "      <td>0</td>\n",
              "      <td>0</td>\n",
              "      <td>0</td>\n",
              "      <td>0</td>\n",
              "      <td>0</td>\n",
              "    </tr>\n",
              "  </tbody>\n",
              "</table>\n",
              "<p>5 rows × 1356 columns</p>\n",
              "</div>"
            ],
            "text/plain": [
              "   acousticness  danceability  duration_ms  energy  instrumentalness  key  \\\n",
              "0        0.0102         0.833       204600   0.434          0.021900    2   \n",
              "1        0.1990         0.743       326933   0.359          0.006110    1   \n",
              "2        0.0344         0.838       185707   0.412          0.000234    2   \n",
              "3        0.6040         0.494       199413   0.338          0.510000    5   \n",
              "4        0.1800         0.678       392893   0.561          0.512000    5   \n",
              "\n",
              "   liveness  loudness  mode  speechiness  ...  artist_alt-J  artist_deadmau5  \\\n",
              "0    0.1650    -8.795     1       0.4310  ...             0                0   \n",
              "1    0.1370   -10.401     1       0.0794  ...             0                0   \n",
              "2    0.1590    -7.148     1       0.2890  ...             0                0   \n",
              "3    0.0922   -15.236     1       0.0261  ...             0                0   \n",
              "4    0.4390   -11.648     0       0.0694  ...             0                0   \n",
              "\n",
              "   artist_for KING & COUNTRY  artist_one sonic society  artist_tUnE-yArDs  \\\n",
              "0                          0                         0                  0   \n",
              "1                          0                         0                  0   \n",
              "2                          0                         0                  0   \n",
              "3                          0                         0                  0   \n",
              "4                          0                         0                  0   \n",
              "\n",
              "   artist_tobyMac  artist_권나무 Kwon Tree  artist_도시총각 Dosichonggak  \\\n",
              "0               0                     0                         0   \n",
              "1               0                     0                         0   \n",
              "2               0                     0                         0   \n",
              "3               0                     0                         0   \n",
              "4               0                     0                         0   \n",
              "\n",
              "   artist_카우칩스 The CowChips  artist_플랫핏 Flat Feet  \n",
              "0                         0                     0  \n",
              "1                         0                     0  \n",
              "2                         0                     0  \n",
              "3                         0                     0  \n",
              "4                         0                     0  \n",
              "\n",
              "[5 rows x 1356 columns]"
            ]
          },
          "execution_count": 595,
          "metadata": {},
          "output_type": "execute_result"
        }
      ]
    },
    {
      "cell_type": "markdown",
      "metadata": {
        "id": "be73c071-b66e-48a4-b102-b9fa588ece4c"
      },
      "source": [
        "## Pipeline"
      ],
      "id": "be73c071-b66e-48a4-b102-b9fa588ece4c"
    },
    {
      "cell_type": "code",
      "metadata": {
        "id": "3500ba3c-704c-4b2e-b281-00bb1b0e4600"
      },
      "source": [
        "# Import as bibliotecas de Pipelines e Pré-processadores\n",
        "from sklearn.pipeline import Pipeline\n",
        "from sklearn.preprocessing import StandardScaler\n",
        "from sklearn.preprocessing import MinMaxScaler"
      ],
      "id": "3500ba3c-704c-4b2e-b281-00bb1b0e4600",
      "execution_count": null,
      "outputs": []
    },
    {
      "cell_type": "code",
      "metadata": {
        "id": "26795dfa-d55f-4f53-9032-79344c33b721"
      },
      "source": [
        "# Treinando o algoritmo de SVM.\n",
        "# pip_1,dataset_array,classes\n",
        "clf = svm.SVC().fit(dataset,classes)"
      ],
      "id": "26795dfa-d55f-4f53-9032-79344c33b721",
      "execution_count": null,
      "outputs": []
    },
    {
      "cell_type": "code",
      "metadata": {
        "id": "0fc44de1-1299-42fe-b662-26e5e366a2ff",
        "outputId": "f39aa759-5532-4b63-fcfd-ffa06e549241"
      },
      "source": [
        "clf"
      ],
      "id": "0fc44de1-1299-42fe-b662-26e5e366a2ff",
      "execution_count": null,
      "outputs": [
        {
          "data": {
            "text/plain": [
              "SVC()"
            ]
          },
          "execution_count": 598,
          "metadata": {},
          "output_type": "execute_result"
        }
      ]
    },
    {
      "cell_type": "code",
      "metadata": {
        "id": "726c2c3d-6b85-4142-a7d9-346528df1e14"
      },
      "source": [
        "# Função que retorna a acurácia após fazer um validação cruzada (cross validation)\n",
        "def Acuracia(clf,X,y):\n",
        "    resultados = cross_val_predict(clf, X, y, cv=10)\n",
        "    return metrics.accuracy_score(y,resultados)"
      ],
      "id": "726c2c3d-6b85-4142-a7d9-346528df1e14",
      "execution_count": null,
      "outputs": []
    },
    {
      "cell_type": "code",
      "metadata": {
        "id": "b720d554-effd-4687-a3ae-d91440d51f3d",
        "outputId": "8f3ca5ed-9c21-4176-ca21-18c9b9a4ba2f"
      },
      "source": [
        "Acuracia(clf, dataset, classes)"
      ],
      "id": "b720d554-effd-4687-a3ae-d91440d51f3d",
      "execution_count": null,
      "outputs": [
        {
          "data": {
            "text/plain": [
              "0.5577590480912246"
            ]
          },
          "execution_count": 600,
          "metadata": {},
          "output_type": "execute_result"
        }
      ]
    },
    {
      "cell_type": "code",
      "metadata": {
        "id": "76c979f1-d323-45a8-bc9b-db62ee605e62"
      },
      "source": [
        "# Criando um pipeline\n",
        "pip_1 = Pipeline([\n",
        "    ('scaler', StandardScaler()),\n",
        "    ('clf', svm.SVC())\n",
        "])"
      ],
      "id": "76c979f1-d323-45a8-bc9b-db62ee605e62",
      "execution_count": null,
      "outputs": []
    },
    {
      "cell_type": "code",
      "metadata": {
        "id": "b5cc7ae1-d17a-4568-9e15-527b9a4f950b",
        "outputId": "78577eb4-a77f-4a4f-8bec-bb159e99d6ce"
      },
      "source": [
        "# Chama a função acuracia passando os dados de musicas e as classes\n",
        "# Usando o pipeline pip_1\n",
        "Acuracia(pip_1, dataset, classes)"
      ],
      "id": "b5cc7ae1-d17a-4568-9e15-527b9a4f950b",
      "execution_count": null,
      "outputs": [
        {
          "data": {
            "text/plain": [
              "0.58601883986118"
            ]
          },
          "execution_count": 602,
          "metadata": {},
          "output_type": "execute_result"
        }
      ]
    },
    {
      "cell_type": "code",
      "metadata": {
        "id": "a720cd0d-7d50-4e7d-8d1e-2e41a67f05c7"
      },
      "source": [
        "# Criando vários Pipelines\n",
        "pip_2 = Pipeline([\n",
        "    ('min_max_scaler', MinMaxScaler()),\n",
        "    ('clf', svm.SVC())\n",
        "])\n",
        "\n",
        "pip_3 = Pipeline([\n",
        "    ('scaler',StandardScaler()),\n",
        "    ('clf', svm.SVC(kernel='rbf'))\n",
        "])\n",
        "\n",
        "pip_4 = Pipeline([\n",
        "    ('scaler',StandardScaler()),\n",
        "    ('clf', svm.SVC(kernel='poly'))\n",
        "])\n",
        "\n",
        "pip_5 = Pipeline([\n",
        "    ('scaler',StandardScaler()),\n",
        "    ('clf', svm.SVC(kernel='linear'))\n",
        "])"
      ],
      "id": "a720cd0d-7d50-4e7d-8d1e-2e41a67f05c7",
      "execution_count": null,
      "outputs": []
    },
    {
      "cell_type": "code",
      "metadata": {
        "id": "128efdf0-5417-402a-952d-10dd48d508c7",
        "outputId": "914ee1ea-7549-4d1d-b4a5-41c7cac3c942"
      },
      "source": [
        "# Chama a função acuracia passando os dados de musicas e as classes\n",
        "# Usando o pipeline pip_2\n",
        "Acuracia(pip_2,dataset,classes)"
      ],
      "id": "128efdf0-5417-402a-952d-10dd48d508c7",
      "execution_count": null,
      "outputs": [
        {
          "data": {
            "text/plain": [
              "0.7223599405057015"
            ]
          },
          "execution_count": 604,
          "metadata": {},
          "output_type": "execute_result"
        }
      ]
    },
    {
      "cell_type": "markdown",
      "metadata": {
        "id": "265e32fe-0d67-43d2-8b90-77d884442f47"
      },
      "source": [
        "# Teste com apenas labelEncoder nos dados"
      ],
      "id": "265e32fe-0d67-43d2-8b90-77d884442f47"
    },
    {
      "cell_type": "code",
      "metadata": {
        "id": "85c98fcb-3bf5-4592-a59c-316bd1224e22",
        "outputId": "97ed125c-5ea4-408b-9852-f2bac2dfd8e2"
      },
      "source": [
        "# Teste com apenas LabelEncoder na coluna 'artist' usando o pipeline 'pip_1'\n",
        "Acuracia(pip_1,dataset,classes)"
      ],
      "id": "85c98fcb-3bf5-4592-a59c-316bd1224e22",
      "execution_count": null,
      "outputs": [
        {
          "data": {
            "text/plain": [
              "0.58601883986118"
            ]
          },
          "execution_count": 605,
          "metadata": {},
          "output_type": "execute_result"
        }
      ]
    },
    {
      "cell_type": "code",
      "metadata": {
        "id": "ef7991e2-ba12-4a82-a5b4-4fb16e709b72",
        "outputId": "e2ac8431-cd7c-4fe3-fa26-1f0b784d905d"
      },
      "source": [
        "# # Teste com apenas LabelEncoder na coluna 'artist' usando o pipeline 'pip_1'\n",
        "Acuracia(pip_2,dataset,classes)"
      ],
      "id": "ef7991e2-ba12-4a82-a5b4-4fb16e709b72",
      "execution_count": null,
      "outputs": [
        {
          "data": {
            "text/plain": [
              "0.7223599405057015"
            ]
          },
          "execution_count": 606,
          "metadata": {},
          "output_type": "execute_result"
        }
      ]
    },
    {
      "cell_type": "markdown",
      "metadata": {
        "id": "20319d09-959e-4caa-a512-8d68f1212fbd"
      },
      "source": [
        "# Testando o Desempenho dos Kernels"
      ],
      "id": "20319d09-959e-4caa-a512-8d68f1212fbd"
    },
    {
      "cell_type": "code",
      "metadata": {
        "id": "dc374215-a1dd-4de6-abd8-37bc5282da56",
        "outputId": "07b5f124-85a9-4bb6-9be9-b796d34b52a3"
      },
      "source": [
        "# Testando o Kernel RBF\n",
        "Acuracia(pip_3, dataset, classes)"
      ],
      "id": "dc374215-a1dd-4de6-abd8-37bc5282da56",
      "execution_count": null,
      "outputs": [
        {
          "data": {
            "text/plain": [
              "0.58601883986118"
            ]
          },
          "execution_count": 607,
          "metadata": {},
          "output_type": "execute_result"
        }
      ]
    },
    {
      "cell_type": "code",
      "metadata": {
        "id": "72e42173-0c0e-41b2-99e4-50d7991761ca",
        "outputId": "ae2d38f2-6556-473d-ee78-a129a1b8f0ab"
      },
      "source": [
        "# Teste de Kernel Linear\n",
        "Acuracia(pip_4, dataset, classes)"
      ],
      "id": "72e42173-0c0e-41b2-99e4-50d7991761ca",
      "execution_count": null,
      "outputs": [
        {
          "data": {
            "text/plain": [
              "0.5751115518096183"
            ]
          },
          "execution_count": 608,
          "metadata": {},
          "output_type": "execute_result"
        }
      ]
    },
    {
      "cell_type": "code",
      "metadata": {
        "id": "3028dd03-2369-4a3c-8749-0a6e2b8ca110",
        "outputId": "9794f0ee-6767-4737-b881-187c493edb28"
      },
      "source": [
        "# Teste de Kernel polynomial\n",
        "Acuracia(pip_5, dataset, classes)"
      ],
      "id": "3028dd03-2369-4a3c-8749-0a6e2b8ca110",
      "execution_count": null,
      "outputs": [
        {
          "data": {
            "text/plain": [
              "0.6058502726822013"
            ]
          },
          "execution_count": 609,
          "metadata": {},
          "output_type": "execute_result"
        }
      ]
    },
    {
      "cell_type": "markdown",
      "metadata": {
        "id": "6498984f-4a72-468a-9d86-b00bc527422c"
      },
      "source": [
        "## Teste de Overfitting"
      ],
      "id": "6498984f-4a72-468a-9d86-b00bc527422c"
    },
    {
      "cell_type": "code",
      "metadata": {
        "id": "6ae177cf-9904-4f7a-b71c-ea6762aab5cf"
      },
      "source": [
        "# Utiliza a função train_test_split para separar conjunto de treino e teste em 80/20\n",
        "from sklearn.model_selection import train_test_split\n",
        "X_train, X_test, y_train, y_test = train_test_split(dataset, classes, test_size=0.2, random_state=123)"
      ],
      "id": "6ae177cf-9904-4f7a-b71c-ea6762aab5cf",
      "execution_count": null,
      "outputs": []
    },
    {
      "cell_type": "code",
      "metadata": {
        "id": "8a8cb583-52c9-4f34-ab8b-a91ffb9ff379"
      },
      "source": [
        "# Scala os dados de treino e teste.\n",
        "scaler = StandardScaler().fit(X_train)\n",
        "X_train = scaler.transform(X_train)\n",
        "\n",
        "scaler2 = StandardScaler().fit(X_test)\n",
        "X_test = scaler2.transform(X_test)"
      ],
      "id": "8a8cb583-52c9-4f34-ab8b-a91ffb9ff379",
      "execution_count": null,
      "outputs": []
    },
    {
      "cell_type": "code",
      "metadata": {
        "id": "6c94387c-e7b5-492c-8602-726a80b494ef",
        "outputId": "d4fcc91b-ac17-4c87-fd76-fc80bb9408ae"
      },
      "source": [
        "# Treina o algoritmo\n",
        "clf.fit(X_train, y_train)"
      ],
      "id": "6c94387c-e7b5-492c-8602-726a80b494ef",
      "execution_count": null,
      "outputs": [
        {
          "data": {
            "text/plain": [
              "SVC()"
            ]
          },
          "execution_count": 612,
          "metadata": {},
          "output_type": "execute_result"
        }
      ]
    },
    {
      "cell_type": "code",
      "metadata": {
        "id": "ffb95582-f59c-43a0-9cac-b6daf61fcdea"
      },
      "source": [
        "# Resultados de predição.\n",
        "y_pred  = clf.predict(X_test)"
      ],
      "id": "ffb95582-f59c-43a0-9cac-b6daf61fcdea",
      "execution_count": null,
      "outputs": []
    },
    {
      "cell_type": "code",
      "metadata": {
        "id": "af0c26eb-4f38-4345-b23f-cdaea4186501",
        "outputId": "190f4d38-ce7a-40d6-90e0-3aeff64d7092"
      },
      "source": [
        "# Imprime a acurácia.\n",
        "metrics.accuracy_score(y_test,y_pred)"
      ],
      "id": "af0c26eb-4f38-4345-b23f-cdaea4186501",
      "execution_count": null,
      "outputs": [
        {
          "data": {
            "text/plain": [
              "0.6732673267326733"
            ]
          },
          "execution_count": 614,
          "metadata": {},
          "output_type": "execute_result"
        }
      ]
    },
    {
      "cell_type": "code",
      "metadata": {
        "id": "4466ae97-e6a0-4539-bc2f-0c2e2ec4b7df"
      },
      "source": [
        "# Testando a classificação com o próprio teste"
      ],
      "id": "4466ae97-e6a0-4539-bc2f-0c2e2ec4b7df",
      "execution_count": null,
      "outputs": []
    },
    {
      "cell_type": "code",
      "metadata": {
        "id": "c5abb627-bd7e-4737-91a2-bb8db052cadc"
      },
      "source": [
        "# Resultados de predição\n",
        "y_pred  = clf.predict(X_train)"
      ],
      "id": "c5abb627-bd7e-4737-91a2-bb8db052cadc",
      "execution_count": null,
      "outputs": []
    },
    {
      "cell_type": "code",
      "metadata": {
        "id": "a20465e5-c709-4da2-8175-70cd065eee87",
        "outputId": "3fcfa0b6-849e-42bc-cc57-d0e0ec764138"
      },
      "source": [
        "# Imprime a Acurácia.\n",
        "metrics.accuracy_score(y_train,y_pred)"
      ],
      "id": "a20465e5-c709-4da2-8175-70cd065eee87",
      "execution_count": null,
      "outputs": [
        {
          "data": {
            "text/plain": [
              "0.9851208927464352"
            ]
          },
          "execution_count": 617,
          "metadata": {},
          "output_type": "execute_result"
        }
      ]
    },
    {
      "cell_type": "markdown",
      "metadata": {
        "id": "aa4c6614-7e22-4b56-9973-001cc427a3aa"
      },
      "source": [
        "# Tunning"
      ],
      "id": "aa4c6614-7e22-4b56-9973-001cc427a3aa"
    },
    {
      "cell_type": "code",
      "metadata": {
        "id": "949921df-45c8-4d42-bb3f-17c11f8fb292"
      },
      "source": [
        "# Importa o utilitário GridSearchCV\n",
        "from sklearn.model_selection import GridSearchCV"
      ],
      "id": "949921df-45c8-4d42-bb3f-17c11f8fb292",
      "execution_count": null,
      "outputs": []
    },
    {
      "cell_type": "code",
      "metadata": {
        "id": "e129dc8e-289c-4da3-811e-21be64f9e54a"
      },
      "source": [
        "# Lista de Valores de C\n",
        "lista_C = [0.001, 0.01, 0.1, 1, 10, 100]\n",
        "\n",
        "# Lista de Valores de gamma\n",
        "lista_gamma = [0.001, 0.01, 0.1, 1, 10, 100]"
      ],
      "id": "e129dc8e-289c-4da3-811e-21be64f9e54a",
      "execution_count": null,
      "outputs": []
    },
    {
      "cell_type": "code",
      "metadata": {
        "id": "95ea16a2-67dd-48f2-832e-4be56b367c62"
      },
      "source": [
        "# Define um dicionário que recebe as listas de parâmetros e valores.\n",
        "parametros_grid = dict(clf__C=lista_C, clf__gamma=lista_gamma)"
      ],
      "id": "95ea16a2-67dd-48f2-832e-4be56b367c62",
      "execution_count": null,
      "outputs": []
    },
    {
      "cell_type": "code",
      "metadata": {
        "id": "d61cd8c3-d13d-43d7-9b4d-3af2903e05a8",
        "outputId": "0249a7c0-e3fb-4a55-c607-8fcef05cb5db"
      },
      "source": [
        "parametros_grid"
      ],
      "id": "d61cd8c3-d13d-43d7-9b4d-3af2903e05a8",
      "execution_count": null,
      "outputs": [
        {
          "data": {
            "text/plain": [
              "{'clf__C': [0.001, 0.01, 0.1, 1, 10, 100],\n",
              " 'clf__gamma': [0.001, 0.01, 0.1, 1, 10, 100]}"
            ]
          },
          "execution_count": 623,
          "metadata": {},
          "output_type": "execute_result"
        }
      ]
    },
    {
      "cell_type": "code",
      "metadata": {
        "id": "33e656e5-0c6e-4186-aef6-fb1c85ca9e85"
      },
      "source": [
        "# Objeto Grid recebe parâmetros de Pipeline, e configurações de cross validation\n",
        "grid = GridSearchCV(pip_3, parametros_grid, cv=10, scoring='accuracy')"
      ],
      "id": "33e656e5-0c6e-4186-aef6-fb1c85ca9e85",
      "execution_count": null,
      "outputs": []
    },
    {
      "cell_type": "code",
      "metadata": {
        "id": "aafcef45-045f-43db-bc21-df31a9379fc8"
      },
      "source": [
        "# Aplica o gridsearch passando os dados de treino e classes.\n",
        "grid.fit(dataset,classes)"
      ],
      "id": "aafcef45-045f-43db-bc21-df31a9379fc8",
      "execution_count": null,
      "outputs": []
    },
    {
      "cell_type": "markdown",
      "metadata": {
        "id": "dfbbb355-e4de-4fef-b790-2db9655942de"
      },
      "source": [
        "# Resultados de Grid"
      ],
      "id": "dfbbb355-e4de-4fef-b790-2db9655942de"
    },
    {
      "cell_type": "code",
      "metadata": {
        "id": "633f740f-90b8-4f71-add9-c3f6000b0bad"
      },
      "source": [
        "# Imprime os scores por combinações\n",
        "grid.grid_scores_"
      ],
      "id": "633f740f-90b8-4f71-add9-c3f6000b0bad",
      "execution_count": null,
      "outputs": []
    },
    {
      "cell_type": "code",
      "metadata": {
        "id": "dcb07ec8-9e62-40a9-8851-e5781c4869a2"
      },
      "source": [
        "# Imprime os melhores parâmetros\n",
        "grid.best_params_"
      ],
      "id": "dcb07ec8-9e62-40a9-8851-e5781c4869a2",
      "execution_count": null,
      "outputs": []
    },
    {
      "cell_type": "code",
      "metadata": {
        "id": "5b6be760-c464-4ffa-85c7-186f9069343c"
      },
      "source": [
        "grid.best_score_"
      ],
      "id": "5b6be760-c464-4ffa-85c7-186f9069343c",
      "execution_count": null,
      "outputs": []
    },
    {
      "cell_type": "code",
      "metadata": {
        "id": "9a42548a-6551-40df-a27d-7a76821ed300"
      },
      "source": [
        ""
      ],
      "id": "9a42548a-6551-40df-a27d-7a76821ed300",
      "execution_count": null,
      "outputs": []
    }
  ]
}